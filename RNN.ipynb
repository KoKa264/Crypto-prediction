{
  "nbformat": 4,
  "nbformat_minor": 0,
  "metadata": {
    "colab": {
      "provenance": []
    },
    "kernelspec": {
      "name": "python3",
      "display_name": "Python 3"
    },
    "language_info": {
      "name": "python"
    }
  },
  "cells": [
    {
      "cell_type": "code",
      "source": [
        "# 1. Import thư viện cần thiết\n",
        "import numpy as np\n",
        "import pandas as pd\n",
        "import matplotlib.pyplot as plt\n",
        "from sklearn.preprocessing import MinMaxScaler\n",
        "from keras.models import Sequential\n",
        "from keras.layers import Dense, SimpleRNN"
      ],
      "metadata": {
        "id": "kTyTBs2-z8Mu"
      },
      "execution_count": null,
      "outputs": []
    },
    {
      "cell_type": "code",
      "source": [
        "# 2. Đọc file csv và gắng index với giá Close\n",
        "df = pd.read_csv('XRP-USD.csv')\n",
        "df1=df.reset_index()['Close']"
      ],
      "metadata": {
        "id": "vaI_JGoy0eo8"
      },
      "execution_count": null,
      "outputs": []
    },
    {
      "cell_type": "code",
      "source": [
        "# 3. Scaler data\n",
        "scaler=MinMaxScaler(feature_range=(0,1))\n",
        "df1=scaler.fit_transform(np.array(df1).reshape(-1,1))"
      ],
      "metadata": {
        "id": "B_5-4FpE0n54"
      },
      "execution_count": null,
      "outputs": []
    },
    {
      "cell_type": "markdown",
      "source": [],
      "metadata": {
        "id": "plEH57T8ISR2"
      }
    },
    {
      "cell_type": "code",
      "source": [
        "# 4. Chia train test\n",
        "train_size = int(0.5 * len(df1))\n",
        "test_size = int(0.3 * len(df1))\n",
        "val_size = len(df1) - train_size - test_size\n",
        "\n",
        "train_data = df1[:train_size]\n",
        "test_data = df1[train_size:train_size+test_size]\n",
        "val_data = df1[train_size+test_size:]"
      ],
      "metadata": {
        "id": "Qe3FoLXl0qSX"
      },
      "execution_count": null,
      "outputs": []
    },
    {
      "cell_type": "code",
      "source": [
        "# 5. Hàm Create Dataset\n",
        "# Chuyển từ mảng 1 chiều thành matrix\n",
        "def create_dataset(dataset, time_step=1):\n",
        "\tdataX, dataY = [], []\n",
        "\tfor i in range(len(dataset)-time_step-1):\n",
        "\t\ta = dataset[i:(i+time_step), 0]\n",
        "\t\tdataX.append(a)\n",
        "\t\tdataY.append(dataset[i + time_step, 0])\n",
        "\treturn np.array(dataX), np.array(dataY)"
      ],
      "metadata": {
        "id": "cAy5g7U_0urs"
      },
      "execution_count": null,
      "outputs": []
    },
    {
      "cell_type": "code",
      "source": [
        "#6. Reshape thành X=t,t+1,t+2..t+99  Y=t+100\n",
        "\n",
        "time_step = 100\n",
        "X_train, y_train = create_dataset(train_data, time_step)\n",
        "X_val, y_val = create_dataset(val_data, time_step)\n",
        "X_test, y_test = create_dataset(test_data, time_step)"
      ],
      "metadata": {
        "id": "lwHkQWDH09S5"
      },
      "execution_count": null,
      "outputs": []
    },
    {
      "cell_type": "code",
      "source": [
        "# 7. Reshape input to be [samples, time steps, features] which is required for LSTM\n",
        "X_train =X_train.reshape(X_train.shape[0],X_train.shape[1] , 1)\n",
        "X_test = X_test.reshape(X_test.shape[0],X_test.shape[1] , 1)\n",
        "X_val = X_val.reshape(X_val.shape[0],X_val.shape[1] , 1)"
      ],
      "metadata": {
        "id": "iflFWO5Q1ANs"
      },
      "execution_count": null,
      "outputs": []
    },
    {
      "cell_type": "code",
      "source": [
        "# 8. Define SImpleRNN Model\n",
        "model = Sequential()\n",
        "model.add(SimpleRNN(50, input_shape=(time_step, 1)))\n",
        "model.add(Dense(1))\n",
        "model.compile(loss='mean_squared_error',optimizer='adam')"
      ],
      "metadata": {
        "id": "zl-t--a51HJb"
      },
      "execution_count": null,
      "outputs": []
    },
    {
      "cell_type": "code",
      "source": [
        "# 9. Fit mô hình với dữ liệu train\n",
        "model.fit(X_train,y_train,validation_data=(X_test,y_test),epochs=100,batch_size=64,verbose=1)"
      ],
      "metadata": {
        "id": "27pZzx-O2kdQ",
        "colab": {
          "base_uri": "https://localhost:8080/"
        },
        "outputId": "cd387478-51ef-472e-ea96-914f25eda90b"
      },
      "execution_count": null,
      "outputs": [
        {
          "output_type": "stream",
          "name": "stdout",
          "text": [
            "Epoch 1/100\n",
            "13/13 [==============================] - 1s 30ms/step - loss: 0.0032 - val_loss: 0.0527\n",
            "Epoch 2/100\n",
            "13/13 [==============================] - 0s 17ms/step - loss: 7.5104e-04 - val_loss: 0.0266\n",
            "Epoch 3/100\n",
            "13/13 [==============================] - 0s 16ms/step - loss: 5.9376e-04 - val_loss: 0.0282\n",
            "Epoch 4/100\n",
            "13/13 [==============================] - 0s 16ms/step - loss: 5.0211e-04 - val_loss: 0.0308\n",
            "Epoch 5/100\n",
            "13/13 [==============================] - 0s 17ms/step - loss: 4.6274e-04 - val_loss: 0.0230\n",
            "Epoch 6/100\n",
            "13/13 [==============================] - 0s 17ms/step - loss: 4.2808e-04 - val_loss: 0.0223\n",
            "Epoch 7/100\n",
            "13/13 [==============================] - 0s 16ms/step - loss: 3.9654e-04 - val_loss: 0.0209\n",
            "Epoch 8/100\n",
            "13/13 [==============================] - 0s 15ms/step - loss: 3.6748e-04 - val_loss: 0.0186\n",
            "Epoch 9/100\n",
            "13/13 [==============================] - 0s 15ms/step - loss: 3.4791e-04 - val_loss: 0.0177\n",
            "Epoch 10/100\n",
            "13/13 [==============================] - 0s 16ms/step - loss: 3.4950e-04 - val_loss: 0.0167\n",
            "Epoch 11/100\n",
            "13/13 [==============================] - 0s 15ms/step - loss: 3.0929e-04 - val_loss: 0.0130\n",
            "Epoch 12/100\n",
            "13/13 [==============================] - 0s 16ms/step - loss: 2.9932e-04 - val_loss: 0.0146\n",
            "Epoch 13/100\n",
            "13/13 [==============================] - 0s 16ms/step - loss: 2.8032e-04 - val_loss: 0.0141\n",
            "Epoch 14/100\n",
            "13/13 [==============================] - 0s 16ms/step - loss: 2.6965e-04 - val_loss: 0.0115\n",
            "Epoch 15/100\n",
            "13/13 [==============================] - 0s 16ms/step - loss: 2.6789e-04 - val_loss: 0.0127\n",
            "Epoch 16/100\n",
            "13/13 [==============================] - 0s 17ms/step - loss: 2.5526e-04 - val_loss: 0.0116\n",
            "Epoch 17/100\n",
            "13/13 [==============================] - 0s 19ms/step - loss: 2.3756e-04 - val_loss: 0.0101\n",
            "Epoch 18/100\n",
            "13/13 [==============================] - 0s 17ms/step - loss: 2.3177e-04 - val_loss: 0.0111\n",
            "Epoch 19/100\n",
            "13/13 [==============================] - 0s 15ms/step - loss: 2.3908e-04 - val_loss: 0.0084\n",
            "Epoch 20/100\n",
            "13/13 [==============================] - 0s 17ms/step - loss: 2.1522e-04 - val_loss: 0.0110\n",
            "Epoch 21/100\n",
            "13/13 [==============================] - 0s 16ms/step - loss: 2.1714e-04 - val_loss: 0.0074\n",
            "Epoch 22/100\n",
            "13/13 [==============================] - 0s 16ms/step - loss: 2.0061e-04 - val_loss: 0.0084\n",
            "Epoch 23/100\n",
            "13/13 [==============================] - 0s 15ms/step - loss: 1.8949e-04 - val_loss: 0.0074\n",
            "Epoch 24/100\n",
            "13/13 [==============================] - 0s 15ms/step - loss: 1.8375e-04 - val_loss: 0.0075\n",
            "Epoch 25/100\n",
            "13/13 [==============================] - 0s 15ms/step - loss: 1.7915e-04 - val_loss: 0.0065\n",
            "Epoch 26/100\n",
            "13/13 [==============================] - 0s 16ms/step - loss: 1.8536e-04 - val_loss: 0.0074\n",
            "Epoch 27/100\n",
            "13/13 [==============================] - 0s 17ms/step - loss: 1.6715e-04 - val_loss: 0.0072\n",
            "Epoch 28/100\n",
            "13/13 [==============================] - 0s 16ms/step - loss: 1.6005e-04 - val_loss: 0.0062\n",
            "Epoch 29/100\n",
            "13/13 [==============================] - 0s 16ms/step - loss: 1.5837e-04 - val_loss: 0.0062\n",
            "Epoch 30/100\n",
            "13/13 [==============================] - 0s 16ms/step - loss: 1.6629e-04 - val_loss: 0.0069\n",
            "Epoch 31/100\n",
            "13/13 [==============================] - 0s 18ms/step - loss: 1.9591e-04 - val_loss: 0.0059\n",
            "Epoch 32/100\n",
            "13/13 [==============================] - 0s 20ms/step - loss: 1.8206e-04 - val_loss: 0.0054\n",
            "Epoch 33/100\n",
            "13/13 [==============================] - 0s 27ms/step - loss: 1.8201e-04 - val_loss: 0.0074\n",
            "Epoch 34/100\n",
            "13/13 [==============================] - 0s 26ms/step - loss: 1.6310e-04 - val_loss: 0.0047\n",
            "Epoch 35/100\n",
            "13/13 [==============================] - 0s 25ms/step - loss: 1.4050e-04 - val_loss: 0.0051\n",
            "Epoch 36/100\n",
            "13/13 [==============================] - 0s 22ms/step - loss: 1.3623e-04 - val_loss: 0.0050\n",
            "Epoch 37/100\n",
            "13/13 [==============================] - 0s 25ms/step - loss: 1.3199e-04 - val_loss: 0.0047\n",
            "Epoch 38/100\n",
            "13/13 [==============================] - 0s 19ms/step - loss: 1.2954e-04 - val_loss: 0.0048\n",
            "Epoch 39/100\n",
            "13/13 [==============================] - 0s 14ms/step - loss: 1.3073e-04 - val_loss: 0.0045\n",
            "Epoch 40/100\n",
            "13/13 [==============================] - 0s 15ms/step - loss: 1.3047e-04 - val_loss: 0.0038\n",
            "Epoch 41/100\n",
            "13/13 [==============================] - 0s 14ms/step - loss: 1.2895e-04 - val_loss: 0.0046\n",
            "Epoch 42/100\n",
            "13/13 [==============================] - 0s 14ms/step - loss: 1.2674e-04 - val_loss: 0.0046\n",
            "Epoch 43/100\n",
            "13/13 [==============================] - 0s 17ms/step - loss: 1.2470e-04 - val_loss: 0.0040\n",
            "Epoch 44/100\n",
            "13/13 [==============================] - 0s 16ms/step - loss: 1.1891e-04 - val_loss: 0.0038\n",
            "Epoch 45/100\n",
            "13/13 [==============================] - 0s 16ms/step - loss: 1.1951e-04 - val_loss: 0.0036\n",
            "Epoch 46/100\n",
            "13/13 [==============================] - 0s 17ms/step - loss: 1.1726e-04 - val_loss: 0.0043\n",
            "Epoch 47/100\n",
            "13/13 [==============================] - 0s 16ms/step - loss: 1.1544e-04 - val_loss: 0.0040\n",
            "Epoch 48/100\n",
            "13/13 [==============================] - 0s 17ms/step - loss: 1.1374e-04 - val_loss: 0.0037\n",
            "Epoch 49/100\n",
            "13/13 [==============================] - 0s 15ms/step - loss: 1.1275e-04 - val_loss: 0.0037\n",
            "Epoch 50/100\n",
            "13/13 [==============================] - 0s 14ms/step - loss: 1.1160e-04 - val_loss: 0.0044\n",
            "Epoch 51/100\n",
            "13/13 [==============================] - 0s 16ms/step - loss: 1.1136e-04 - val_loss: 0.0038\n",
            "Epoch 52/100\n",
            "13/13 [==============================] - 0s 15ms/step - loss: 1.2228e-04 - val_loss: 0.0036\n",
            "Epoch 53/100\n",
            "13/13 [==============================] - 0s 15ms/step - loss: 1.1318e-04 - val_loss: 0.0037\n",
            "Epoch 54/100\n",
            "13/13 [==============================] - 0s 16ms/step - loss: 1.1036e-04 - val_loss: 0.0034\n",
            "Epoch 55/100\n",
            "13/13 [==============================] - 0s 16ms/step - loss: 1.1397e-04 - val_loss: 0.0037\n",
            "Epoch 56/100\n",
            "13/13 [==============================] - 0s 17ms/step - loss: 1.0812e-04 - val_loss: 0.0036\n",
            "Epoch 57/100\n",
            "13/13 [==============================] - 0s 18ms/step - loss: 1.0606e-04 - val_loss: 0.0033\n",
            "Epoch 58/100\n",
            "13/13 [==============================] - 0s 17ms/step - loss: 1.0967e-04 - val_loss: 0.0039\n",
            "Epoch 59/100\n",
            "13/13 [==============================] - 0s 17ms/step - loss: 1.1099e-04 - val_loss: 0.0033\n",
            "Epoch 60/100\n",
            "13/13 [==============================] - 0s 16ms/step - loss: 1.0644e-04 - val_loss: 0.0035\n",
            "Epoch 61/100\n",
            "13/13 [==============================] - 0s 16ms/step - loss: 1.0363e-04 - val_loss: 0.0033\n",
            "Epoch 62/100\n",
            "13/13 [==============================] - 0s 15ms/step - loss: 1.0769e-04 - val_loss: 0.0035\n",
            "Epoch 63/100\n",
            "13/13 [==============================] - 0s 16ms/step - loss: 1.0518e-04 - val_loss: 0.0031\n",
            "Epoch 64/100\n",
            "13/13 [==============================] - 0s 15ms/step - loss: 1.0201e-04 - val_loss: 0.0036\n",
            "Epoch 65/100\n",
            "13/13 [==============================] - 0s 16ms/step - loss: 1.0209e-04 - val_loss: 0.0030\n",
            "Epoch 66/100\n",
            "13/13 [==============================] - 0s 16ms/step - loss: 9.9413e-05 - val_loss: 0.0028\n",
            "Epoch 67/100\n",
            "13/13 [==============================] - 0s 17ms/step - loss: 1.0127e-04 - val_loss: 0.0031\n",
            "Epoch 68/100\n",
            "13/13 [==============================] - 0s 15ms/step - loss: 1.0297e-04 - val_loss: 0.0033\n",
            "Epoch 69/100\n",
            "13/13 [==============================] - 0s 16ms/step - loss: 1.0253e-04 - val_loss: 0.0027\n",
            "Epoch 70/100\n",
            "13/13 [==============================] - 0s 15ms/step - loss: 1.0149e-04 - val_loss: 0.0030\n",
            "Epoch 71/100\n",
            "13/13 [==============================] - 0s 16ms/step - loss: 9.8506e-05 - val_loss: 0.0026\n",
            "Epoch 72/100\n",
            "13/13 [==============================] - 0s 17ms/step - loss: 1.0287e-04 - val_loss: 0.0035\n",
            "Epoch 73/100\n",
            "13/13 [==============================] - 0s 16ms/step - loss: 1.0659e-04 - val_loss: 0.0024\n",
            "Epoch 74/100\n",
            "13/13 [==============================] - 0s 17ms/step - loss: 1.0219e-04 - val_loss: 0.0029\n",
            "Epoch 75/100\n",
            "13/13 [==============================] - 0s 15ms/step - loss: 9.8983e-05 - val_loss: 0.0035\n",
            "Epoch 76/100\n",
            "13/13 [==============================] - 0s 17ms/step - loss: 1.0007e-04 - val_loss: 0.0027\n",
            "Epoch 77/100\n",
            "13/13 [==============================] - 0s 16ms/step - loss: 9.5888e-05 - val_loss: 0.0027\n",
            "Epoch 78/100\n",
            "13/13 [==============================] - 0s 16ms/step - loss: 9.8971e-05 - val_loss: 0.0030\n",
            "Epoch 79/100\n",
            "13/13 [==============================] - 0s 17ms/step - loss: 1.0052e-04 - val_loss: 0.0026\n",
            "Epoch 80/100\n",
            "13/13 [==============================] - 0s 16ms/step - loss: 9.4426e-05 - val_loss: 0.0026\n",
            "Epoch 81/100\n",
            "13/13 [==============================] - 0s 17ms/step - loss: 9.7988e-05 - val_loss: 0.0026\n",
            "Epoch 82/100\n",
            "13/13 [==============================] - 0s 16ms/step - loss: 1.0172e-04 - val_loss: 0.0029\n",
            "Epoch 83/100\n",
            "13/13 [==============================] - 0s 17ms/step - loss: 9.6396e-05 - val_loss: 0.0028\n",
            "Epoch 84/100\n",
            "13/13 [==============================] - 0s 17ms/step - loss: 9.3183e-05 - val_loss: 0.0028\n",
            "Epoch 85/100\n",
            "13/13 [==============================] - 0s 19ms/step - loss: 9.5813e-05 - val_loss: 0.0029\n",
            "Epoch 86/100\n",
            "13/13 [==============================] - 0s 23ms/step - loss: 9.6845e-05 - val_loss: 0.0023\n",
            "Epoch 87/100\n",
            "13/13 [==============================] - 0s 24ms/step - loss: 9.7399e-05 - val_loss: 0.0030\n",
            "Epoch 88/100\n",
            "13/13 [==============================] - 0s 25ms/step - loss: 9.8066e-05 - val_loss: 0.0024\n",
            "Epoch 89/100\n",
            "13/13 [==============================] - 0s 27ms/step - loss: 9.2797e-05 - val_loss: 0.0026\n",
            "Epoch 90/100\n",
            "13/13 [==============================] - 0s 26ms/step - loss: 9.5101e-05 - val_loss: 0.0029\n",
            "Epoch 91/100\n",
            "13/13 [==============================] - 0s 23ms/step - loss: 9.2072e-05 - val_loss: 0.0025\n",
            "Epoch 92/100\n",
            "13/13 [==============================] - 0s 16ms/step - loss: 9.3343e-05 - val_loss: 0.0024\n",
            "Epoch 93/100\n",
            "13/13 [==============================] - 0s 16ms/step - loss: 9.3752e-05 - val_loss: 0.0025\n",
            "Epoch 94/100\n",
            "13/13 [==============================] - 0s 18ms/step - loss: 9.3760e-05 - val_loss: 0.0023\n",
            "Epoch 95/100\n",
            "13/13 [==============================] - 0s 16ms/step - loss: 9.3799e-05 - val_loss: 0.0029\n",
            "Epoch 96/100\n",
            "13/13 [==============================] - 0s 15ms/step - loss: 1.0065e-04 - val_loss: 0.0024\n",
            "Epoch 97/100\n",
            "13/13 [==============================] - 0s 16ms/step - loss: 9.7262e-05 - val_loss: 0.0022\n",
            "Epoch 98/100\n",
            "13/13 [==============================] - 0s 16ms/step - loss: 9.3391e-05 - val_loss: 0.0024\n",
            "Epoch 99/100\n",
            "13/13 [==============================] - 0s 16ms/step - loss: 9.3036e-05 - val_loss: 0.0024\n",
            "Epoch 100/100\n",
            "13/13 [==============================] - 0s 16ms/step - loss: 9.5181e-05 - val_loss: 0.0025\n"
          ]
        },
        {
          "output_type": "execute_result",
          "data": {
            "text/plain": [
              "<keras.callbacks.History at 0x7f28f0563370>"
            ]
          },
          "metadata": {},
          "execution_count": 92
        }
      ]
    },
    {
      "cell_type": "code",
      "source": [
        "# Dự đoán tập test_data dựa trên tập train_data\n",
        "train_predict = model.predict(X_train)\n",
        "y_pred = model.predict(X_test)"
      ],
      "metadata": {
        "colab": {
          "base_uri": "https://localhost:8080/"
        },
        "id": "ERZnzSZeNl89",
        "outputId": "cf465d79-5aee-4151-f760-54f9b7dd0f18"
      },
      "execution_count": null,
      "outputs": [
        {
          "output_type": "stream",
          "name": "stdout",
          "text": [
            "26/26 [==============================] - 0s 4ms/step\n",
            "14/14 [==============================] - 0s 4ms/step\n"
          ]
        }
      ]
    },
    {
      "cell_type": "code",
      "source": [
        "# Dự đoán tập test_data dựa trên tập train_data\n",
        "y_pred_val = model.predict(X_val)"
      ],
      "metadata": {
        "colab": {
          "base_uri": "https://localhost:8080/"
        },
        "id": "jUglRsBlOdVr",
        "outputId": "eff4b7ff-159c-4cca-dddf-be544bb1dd1d"
      },
      "execution_count": null,
      "outputs": [
        {
          "output_type": "stream",
          "name": "stdout",
          "text": [
            "9/9 [==============================] - 0s 3ms/step\n"
          ]
        }
      ]
    },
    {
      "cell_type": "code",
      "source": [
        "# 11. Chuẩn hóa dữ liệu y_pred, y_pred_val\n",
        "train_predict=scaler.inverse_transform(train_predict)\n",
        "y_pred=scaler.inverse_transform(y_pred)\n",
        "y_pred_val=scaler.inverse_transform(y_pred_val)"
      ],
      "metadata": {
        "id": "92xEWDCu2qye"
      },
      "execution_count": null,
      "outputs": []
    },
    {
      "cell_type": "code",
      "source": [
        "# 10. Đánh giá độ chính xác thuật toán 6:2:2\n",
        "from sklearn.metrics import mean_squared_error, mean_absolute_percentage_error, mean_absolute_error\n",
        "test_mae = mean_absolute_error(y_pred, test_data[-264:])\n",
        "test_mape = mean_absolute_percentage_error(y_pred, test_data[-264:])\n",
        "test_rmse = np.sqrt(np.mean((y_pred - test_data[-264:])**2))\n",
        "print('Testing MAE:', test_mae)\n",
        "print('Testing RMSE:', test_rmse)\n",
        "print('Testing MAPE:', test_mape)\n",
        "\n",
        "val_mae = mean_absolute_error(y_pred_val, val_data[-265:])\n",
        "val_rmse = np.sqrt(np.mean((y_pred_val - val_data[-265:])**2))\n",
        "val_mape = mean_absolute_percentage_error(y_pred_val, val_data[-265:])\n",
        "print('Validation MAE:', val_mae)\n",
        "print('Validation RMSE:', val_rmse)\n",
        "print('Validation MAPE:', val_mape)"
      ],
      "metadata": {
        "id": "Cc5SkciDXGjs"
      },
      "execution_count": null,
      "outputs": []
    },
    {
      "cell_type": "code",
      "source": [
        "# 10. Đánh giá độ chính xác thuật toán 7:2:1\n",
        "from sklearn.metrics import mean_squared_error, mean_absolute_percentage_error, mean_absolute_error\n",
        "test_mae = mean_absolute_error(y_pred, test_data[-264:])\n",
        "test_mape = mean_absolute_percentage_error(y_pred, test_data[-264:])\n",
        "test_rmse = np.sqrt(np.mean((y_pred - test_data[-264:])**2))\n",
        "print('Testing MAE:', test_mae)\n",
        "print('Testing RMSE:', test_rmse)\n",
        "print('Testing MAPE:', test_mape)\n",
        "\n",
        "val_mae = mean_absolute_error(y_pred_val, val_data[-83:])\n",
        "val_rmse = np.sqrt(np.mean((y_pred_val[-83:] - val_data[-83:])**2))\n",
        "val_mape = mean_absolute_percentage_error(y_pred_val, val_data[-83:])\n",
        "print('Validation MAE:', val_mae)\n",
        "print('Validation RMSE:', val_rmse)\n",
        "print('Validation MAPE:', val_mape)"
      ],
      "metadata": {
        "id": "zQjUj7f7Y9ck"
      },
      "execution_count": null,
      "outputs": []
    },
    {
      "cell_type": "code",
      "source": [
        "# 10. Đánh giá độ chính xác thuật toán 5:3:2\n",
        "from sklearn.metrics import mean_squared_error, mean_absolute_percentage_error, mean_absolute_error\n",
        "test_mae = mean_absolute_error(y_pred, test_data[-447:])\n",
        "test_mape = mean_absolute_percentage_error(y_pred, test_data[-447:])\n",
        "test_rmse = np.sqrt(np.mean((y_pred - test_data[-447:])**2))\n",
        "print('Testing MAE:', test_mae)\n",
        "print('Testing RMSE:', test_rmse)\n",
        "print('Testing MAPE:', test_mape)\n",
        "\n",
        "val_mae = mean_absolute_error(y_pred_val, val_data[-265:])\n",
        "val_rmse = np.sqrt(np.mean((y_pred_val - val_data[-265:])**2))\n",
        "val_mape = mean_absolute_percentage_error(y_pred_val, val_data[-265:])\n",
        "print('Validation MAE:', val_mae)\n",
        "print('Validation RMSE:', val_rmse)\n",
        "print('Validation MAPE:', val_mape)"
      ],
      "metadata": {
        "colab": {
          "base_uri": "https://localhost:8080/"
        },
        "id": "03FgOFoakgXt",
        "outputId": "a195147d-51d1-4145-ffba-3147c2b9e1f4"
      },
      "execution_count": null,
      "outputs": [
        {
          "output_type": "stream",
          "name": "stdout",
          "text": [
            "Testing MAE: 0.3987489139218139\n",
            "Testing RMSE: 0.412268172693921\n",
            "Testing MAPE: 0.4926724785342145\n",
            "Validation MAE: 0.2505766510785948\n",
            "Validation RMSE: 0.2520370875382552\n",
            "Validation MAPE: 0.5969697423982285\n"
          ]
        }
      ]
    },
    {
      "cell_type": "code",
      "source": [
        "# 13. Dự báo 30 ngày tiếp theo\n",
        "x_input=val_data[60:].reshape(1,-1)\n",
        "x_input.shape\n",
        "temp_input = list(x_input)\n",
        "temp_input = temp_input[0].tolist()\n",
        "\n",
        "lst_output = []\n",
        "n_steps = 100\n",
        "i = 0\n",
        "while i < 30:\n",
        "    if len(temp_input) > 100:\n",
        "        x_input = np.array(temp_input[-100:])  # Lấy 100 phần tử cuối cùng\n",
        "        print(\"{} ngày đầu vào {}\".format(i, x_input))\n",
        "        x_input = x_input.reshape(1, -1)\n",
        "        x_input = x_input.reshape((1, n_steps, 1))\n",
        "        yhat = model.predict(x_input, verbose=0)\n",
        "        print(\"{} ngày đầu ra {}\".format(i, yhat))\n",
        "        temp_input.extend(yhat[0].tolist())\n",
        "        temp_input = temp_input[1:]\n",
        "        lst_output.extend(yhat.tolist())\n",
        "        i += 1\n",
        "    else:\n",
        "        x_input = x_input.reshape((1, n_steps, 1))\n",
        "        yhat = model.predict(x_input, verbose=0)\n",
        "        print(yhat[0])\n",
        "        temp_input.extend(yhat[0].tolist())\n",
        "        print(len(temp_input))\n",
        "        lst_output.extend(yhat.tolist())\n",
        "        i += 1\n"
      ],
      "metadata": {
        "id": "5DCcyLqMJMqM"
      },
      "execution_count": null,
      "outputs": []
    },
    {
      "cell_type": "code",
      "source": [
        "# 14.Vẽ hình\n",
        "\n",
        "train_data_index = pd.RangeIndex(start=0, stop=train_size, step=1)\n",
        "plt.plot(scaler.inverse_transform(train_data))\n",
        "\n",
        "test_data_index = pd.RangeIndex(start=train_size, stop=train_size+test_size, step=1)\n",
        "plt.plot(test_data_index,scaler.inverse_transform(test_data))\n",
        "\n",
        "test_data_index = pd.RangeIndex(start=train_size+101, stop=train_size+test_size, step=1)\n",
        "plt.plot(test_data_index,(y_pred))\n",
        "\n",
        "val_data_index = pd.RangeIndex(start=train_size+test_size, stop=train_size+test_size+val_size, step=1)\n",
        "plt.plot(val_data_index,scaler.inverse_transform(val_data))\n",
        "\n",
        "val_data_index = pd.RangeIndex(start=train_size+test_size+101, stop=train_size+test_size+val_size, step=1)\n",
        "plt.plot(val_data_index,y_pred_val)\n",
        "\n",
        "prediect_data_index = pd.RangeIndex(start=len(df1)-1, stop=len(df1)+29, step=1)\n",
        "plt.plot(prediect_data_index,scaler.inverse_transform(lst_output))\n",
        "\n",
        "plt.legend(['Train','Test','Predicted Test','Validate','Predicted Validate','Predict30days'])\n",
        "plt.show()"
      ],
      "metadata": {
        "id": "33oIa5Mn3Hl-"
      },
      "execution_count": null,
      "outputs": []
    }
  ]
}