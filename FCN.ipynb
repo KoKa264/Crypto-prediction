{
  "nbformat": 4,
  "nbformat_minor": 0,
  "metadata": {
    "colab": {
      "provenance": []
    },
    "kernelspec": {
      "name": "python3",
      "display_name": "Python 3"
    },
    "language_info": {
      "name": "python"
    }
  },
  "cells": [
    {
      "cell_type": "code",
      "execution_count": null,
      "metadata": {
        "id": "ZmChyIqY_b4n"
      },
      "outputs": [],
      "source": [
        "import numpy as np\n",
        "import pandas as pd\n",
        "import matplotlib.pyplot as plt\n",
        "\n",
        "import tensorflow as tf\n",
        "from tensorflow.keras.metrics import MeanAbsolutePercentageError\n",
        "from tensorflow.keras.models import Sequential\n",
        "from tensorflow.keras.layers import Conv1D, MaxPooling1D, Flatten, Dense, Dropout, GlobalAveragePooling1D, GlobalMaxPooling1D\n",
        "\n",
        "from sklearn.preprocessing import MinMaxScaler\n",
        "from sklearn.metrics import mean_squared_error, mean_absolute_percentage_error, mean_absolute_error\n",
        "\n",
        "from sklearn.utils import check_array\n",
        "\n",
        "from tensorflow.keras.wrappers.scikit_learn import KerasRegressor\n",
        "from sklearn.model_selection import GridSearchCV"
      ]
    },
    {
      "cell_type": "markdown",
      "source": [
        "#7 : 2 : 1"
      ],
      "metadata": {
        "id": "glRqAYNhR5w3"
      }
    },
    {
      "cell_type": "code",
      "source": [
        "df = pd.read_csv('ETH-USD.csv')\n",
        "df1=df.reset_index()['Close']"
      ],
      "metadata": {
        "id": "MPkz1Hf0_ih6"
      },
      "execution_count": null,
      "outputs": []
    },
    {
      "cell_type": "code",
      "source": [
        " # 3. Scaler data\n",
        "scaler=MinMaxScaler(feature_range=(0,1))\n",
        "df1=scaler.fit_transform(np.array(df1).reshape(-1,1))\n"
      ],
      "metadata": {
        "id": "CHZAg_2u_oqU"
      },
      "execution_count": null,
      "outputs": []
    },
    {
      "cell_type": "code",
      "source": [
        " #4. Chia train test 7:2:1\n",
        "train_size = int(0.7 * len(df))\n",
        "test_size = int(0.2 * len(df))\n",
        "val_size = len(df1) - train_size - test_size\n",
        "\n",
        "train_data = df1[:train_size]\n",
        "test_data = df1[train_size:train_size+test_size]\n",
        "val_data = df1[train_size+test_size:]"
      ],
      "metadata": {
        "id": "ObUzoD_b_yJA"
      },
      "execution_count": null,
      "outputs": []
    },
    {
      "cell_type": "code",
      "source": [
        "    # 5. Hàm Create Dataset\n",
        "# convert an array of values into a dataset matrix\n",
        "def create_dataset(dataset, time_step=1):\n",
        "\tdataX, dataY = [], []\n",
        "\tfor i in range(len(dataset)-time_step):\n",
        "\n",
        "\t\tdataX.append(dataset[i:i+time_step])\n",
        "\t\tdataY.append(dataset[i + time_step])\n",
        "\treturn np.array(dataX), np.array(dataY)\n",
        "#6 Tạo input dataset cho train, val, test\n",
        "\n",
        "time_step = 10\n",
        "\n",
        "X_train, y_train = create_dataset(train_data, time_step)\n",
        "X_val, yval = create_dataset(val_data, time_step)\n",
        "X_test, ytest = create_dataset(test_data, time_step)"
      ],
      "metadata": {
        "id": "Qj8e354J_2HE"
      },
      "execution_count": null,
      "outputs": []
    },
    {
      "cell_type": "code",
      "source": [
        "# 7. Reshape input to be [samples, time steps, features] which is required for FCN\n",
        "X_train =X_train.reshape(X_train.shape[0],X_train.shape[1] , 1)\n",
        "X_test = X_test.reshape(X_test.shape[0],X_test.shape[1] , 1)\n",
        "X_val = X_val.reshape(X_val.shape[0],X_val.shape[1] , 1)"
      ],
      "metadata": {
        "id": "5W_iX9gv_6y0"
      },
      "execution_count": null,
      "outputs": []
    },
    {
      "cell_type": "code",
      "source": [
        "# define FCN model\n",
        "def fcn():\n",
        "    model = Sequential()\n",
        "    model.add(Conv1D(filters=32, kernel_size=3, activation='relu', input_shape=(10, 1)))\n",
        "    model.add(Conv1D(filters=64, kernel_size=3, activation='relu'))\n",
        "    model.add(GlobalMaxPooling1D())\n",
        "    model.add(Dense(64, activation='relu'))\n",
        "    model.add(Dense(1))\n",
        "    return model"
      ],
      "metadata": {
        "id": "H01Q9jaS_9oq"
      },
      "execution_count": null,
      "outputs": []
    },
    {
      "cell_type": "code",
      "source": [
        "model= fcn()\n",
        "model.summary()\n"
      ],
      "metadata": {
        "colab": {
          "base_uri": "https://localhost:8080/"
        },
        "id": "xtOwhW3GuB-P",
        "outputId": "508c2d40-fbfd-4678-a485-7d92d19f9ee0"
      },
      "execution_count": null,
      "outputs": [
        {
          "output_type": "stream",
          "name": "stdout",
          "text": [
            "Model: \"sequential_1\"\n",
            "_________________________________________________________________\n",
            " Layer (type)                Output Shape              Param #   \n",
            "=================================================================\n",
            " conv1d_2 (Conv1D)           (None, 8, 32)             128       \n",
            "                                                                 \n",
            " conv1d_3 (Conv1D)           (None, 6, 64)             6208      \n",
            "                                                                 \n",
            " global_max_pooling1d_1 (Glo  (None, 64)               0         \n",
            " balMaxPooling1D)                                                \n",
            "                                                                 \n",
            " dense_2 (Dense)             (None, 64)                4160      \n",
            "                                                                 \n",
            " dense_3 (Dense)             (None, 1)                 65        \n",
            "                                                                 \n",
            "=================================================================\n",
            "Total params: 10,561\n",
            "Trainable params: 10,561\n",
            "Non-trainable params: 0\n",
            "_________________________________________________________________\n"
          ]
        }
      ]
    },
    {
      "cell_type": "code",
      "source": [
        "model.compile(optimizer='adam', loss='mean_squared_error')\n",
        "history = model.fit(X_train, y_train, validation_data=(X_test, ytest), epochs=100, batch_size=32)"
      ],
      "metadata": {
        "colab": {
          "base_uri": "https://localhost:8080/"
        },
        "id": "QO0pNFs3GUq2",
        "outputId": "93557eef-7875-40bf-abe2-4ffd5a716e88"
      },
      "execution_count": null,
      "outputs": [
        {
          "output_type": "stream",
          "name": "stdout",
          "text": [
            "Epoch 1/100\n",
            "40/40 [==============================] - 1s 10ms/step - loss: 0.0163 - val_loss: 0.0021\n",
            "Epoch 2/100\n",
            "40/40 [==============================] - 0s 6ms/step - loss: 0.0012 - val_loss: 0.0020\n",
            "Epoch 3/100\n",
            "40/40 [==============================] - 0s 5ms/step - loss: 0.0010 - val_loss: 0.0025\n",
            "Epoch 4/100\n",
            "40/40 [==============================] - 0s 5ms/step - loss: 9.9869e-04 - val_loss: 0.0027\n",
            "Epoch 5/100\n",
            "40/40 [==============================] - 0s 6ms/step - loss: 0.0010 - val_loss: 0.0019\n",
            "Epoch 6/100\n",
            "40/40 [==============================] - 0s 5ms/step - loss: 0.0012 - val_loss: 0.0034\n",
            "Epoch 7/100\n",
            "40/40 [==============================] - 0s 5ms/step - loss: 0.0011 - val_loss: 0.0018\n",
            "Epoch 8/100\n",
            "40/40 [==============================] - 0s 6ms/step - loss: 0.0011 - val_loss: 0.0018\n",
            "Epoch 9/100\n",
            "40/40 [==============================] - 0s 4ms/step - loss: 9.7536e-04 - val_loss: 0.0020\n",
            "Epoch 10/100\n",
            "40/40 [==============================] - 0s 4ms/step - loss: 9.8420e-04 - val_loss: 0.0025\n",
            "Epoch 11/100\n",
            "40/40 [==============================] - 0s 5ms/step - loss: 0.0010 - val_loss: 0.0017\n",
            "Epoch 12/100\n",
            "40/40 [==============================] - 0s 5ms/step - loss: 9.6909e-04 - val_loss: 0.0016\n",
            "Epoch 13/100\n",
            "40/40 [==============================] - 0s 6ms/step - loss: 0.0010 - val_loss: 0.0017\n",
            "Epoch 14/100\n",
            "40/40 [==============================] - 0s 6ms/step - loss: 9.4425e-04 - val_loss: 0.0019\n",
            "Epoch 15/100\n",
            "40/40 [==============================] - 0s 5ms/step - loss: 9.6113e-04 - val_loss: 0.0023\n",
            "Epoch 16/100\n",
            "40/40 [==============================] - 0s 6ms/step - loss: 8.8560e-04 - val_loss: 0.0021\n",
            "Epoch 17/100\n",
            "40/40 [==============================] - 0s 4ms/step - loss: 9.0725e-04 - val_loss: 0.0015\n",
            "Epoch 18/100\n",
            "40/40 [==============================] - 0s 5ms/step - loss: 9.2055e-04 - val_loss: 0.0021\n",
            "Epoch 19/100\n",
            "40/40 [==============================] - 0s 4ms/step - loss: 8.3224e-04 - val_loss: 0.0014\n",
            "Epoch 20/100\n",
            "40/40 [==============================] - 0s 4ms/step - loss: 8.5089e-04 - val_loss: 0.0014\n",
            "Epoch 21/100\n",
            "40/40 [==============================] - 0s 5ms/step - loss: 8.1382e-04 - val_loss: 0.0013\n",
            "Epoch 22/100\n",
            "40/40 [==============================] - 0s 5ms/step - loss: 7.5973e-04 - val_loss: 0.0014\n",
            "Epoch 23/100\n",
            "40/40 [==============================] - 0s 5ms/step - loss: 8.3847e-04 - val_loss: 0.0014\n",
            "Epoch 24/100\n",
            "40/40 [==============================] - 0s 5ms/step - loss: 8.0625e-04 - val_loss: 0.0028\n",
            "Epoch 25/100\n",
            "40/40 [==============================] - 0s 6ms/step - loss: 8.5249e-04 - val_loss: 0.0013\n",
            "Epoch 26/100\n",
            "40/40 [==============================] - 0s 6ms/step - loss: 8.0275e-04 - val_loss: 0.0019\n",
            "Epoch 27/100\n",
            "40/40 [==============================] - 0s 5ms/step - loss: 7.9341e-04 - val_loss: 0.0014\n",
            "Epoch 28/100\n",
            "40/40 [==============================] - 0s 6ms/step - loss: 7.1510e-04 - val_loss: 0.0011\n",
            "Epoch 29/100\n",
            "40/40 [==============================] - 0s 5ms/step - loss: 7.0890e-04 - val_loss: 0.0012\n",
            "Epoch 30/100\n",
            "40/40 [==============================] - 0s 5ms/step - loss: 6.1517e-04 - val_loss: 0.0014\n",
            "Epoch 31/100\n",
            "40/40 [==============================] - 0s 5ms/step - loss: 7.3348e-04 - val_loss: 0.0011\n",
            "Epoch 32/100\n",
            "40/40 [==============================] - 0s 5ms/step - loss: 6.9474e-04 - val_loss: 0.0011\n",
            "Epoch 33/100\n",
            "40/40 [==============================] - 0s 6ms/step - loss: 6.2798e-04 - val_loss: 0.0013\n",
            "Epoch 34/100\n",
            "40/40 [==============================] - 0s 5ms/step - loss: 6.1856e-04 - val_loss: 0.0012\n",
            "Epoch 35/100\n",
            "40/40 [==============================] - 0s 6ms/step - loss: 5.9191e-04 - val_loss: 0.0013\n",
            "Epoch 36/100\n",
            "40/40 [==============================] - 0s 5ms/step - loss: 7.3927e-04 - val_loss: 0.0010\n",
            "Epoch 37/100\n",
            "40/40 [==============================] - 0s 5ms/step - loss: 6.8735e-04 - val_loss: 0.0014\n",
            "Epoch 38/100\n",
            "40/40 [==============================] - 0s 6ms/step - loss: 6.7186e-04 - val_loss: 0.0016\n",
            "Epoch 39/100\n",
            "40/40 [==============================] - 0s 8ms/step - loss: 6.5135e-04 - val_loss: 0.0010\n",
            "Epoch 40/100\n",
            "40/40 [==============================] - 0s 8ms/step - loss: 5.5520e-04 - val_loss: 0.0012\n",
            "Epoch 41/100\n",
            "40/40 [==============================] - 0s 7ms/step - loss: 6.0820e-04 - val_loss: 9.0545e-04\n",
            "Epoch 42/100\n",
            "40/40 [==============================] - 0s 7ms/step - loss: 6.3776e-04 - val_loss: 0.0012\n",
            "Epoch 43/100\n",
            "40/40 [==============================] - 0s 8ms/step - loss: 6.4583e-04 - val_loss: 9.2199e-04\n",
            "Epoch 44/100\n",
            "40/40 [==============================] - 0s 8ms/step - loss: 6.4840e-04 - val_loss: 0.0014\n",
            "Epoch 45/100\n",
            "40/40 [==============================] - 0s 7ms/step - loss: 5.5195e-04 - val_loss: 0.0014\n",
            "Epoch 46/100\n",
            "40/40 [==============================] - 0s 8ms/step - loss: 5.8876e-04 - val_loss: 0.0012\n",
            "Epoch 47/100\n",
            "40/40 [==============================] - 0s 8ms/step - loss: 5.0937e-04 - val_loss: 0.0011\n",
            "Epoch 48/100\n",
            "40/40 [==============================] - 0s 5ms/step - loss: 5.6948e-04 - val_loss: 9.6396e-04\n",
            "Epoch 49/100\n",
            "40/40 [==============================] - 0s 5ms/step - loss: 5.7076e-04 - val_loss: 8.6630e-04\n",
            "Epoch 50/100\n",
            "40/40 [==============================] - 0s 5ms/step - loss: 4.9161e-04 - val_loss: 0.0011\n",
            "Epoch 51/100\n",
            "40/40 [==============================] - 0s 5ms/step - loss: 6.6634e-04 - val_loss: 0.0013\n",
            "Epoch 52/100\n",
            "40/40 [==============================] - 0s 5ms/step - loss: 6.3558e-04 - val_loss: 9.7710e-04\n",
            "Epoch 53/100\n",
            "40/40 [==============================] - 0s 5ms/step - loss: 5.2147e-04 - val_loss: 0.0013\n",
            "Epoch 54/100\n",
            "40/40 [==============================] - 0s 5ms/step - loss: 5.0364e-04 - val_loss: 8.4396e-04\n",
            "Epoch 55/100\n",
            "40/40 [==============================] - 0s 6ms/step - loss: 5.4893e-04 - val_loss: 0.0020\n",
            "Epoch 56/100\n",
            "40/40 [==============================] - 0s 6ms/step - loss: 5.7208e-04 - val_loss: 8.7698e-04\n",
            "Epoch 57/100\n",
            "40/40 [==============================] - 0s 4ms/step - loss: 5.5184e-04 - val_loss: 8.4568e-04\n",
            "Epoch 58/100\n",
            "40/40 [==============================] - 0s 6ms/step - loss: 7.0949e-04 - val_loss: 8.5947e-04\n",
            "Epoch 59/100\n",
            "40/40 [==============================] - 0s 5ms/step - loss: 6.1025e-04 - val_loss: 0.0018\n",
            "Epoch 60/100\n",
            "40/40 [==============================] - 0s 5ms/step - loss: 5.4544e-04 - val_loss: 9.9289e-04\n",
            "Epoch 61/100\n",
            "40/40 [==============================] - 0s 4ms/step - loss: 5.4214e-04 - val_loss: 8.6848e-04\n",
            "Epoch 62/100\n",
            "40/40 [==============================] - 0s 5ms/step - loss: 5.6821e-04 - val_loss: 0.0024\n",
            "Epoch 63/100\n",
            "40/40 [==============================] - 0s 6ms/step - loss: 5.0602e-04 - val_loss: 8.5021e-04\n",
            "Epoch 64/100\n",
            "40/40 [==============================] - 0s 5ms/step - loss: 5.1929e-04 - val_loss: 8.6841e-04\n",
            "Epoch 65/100\n",
            "40/40 [==============================] - 0s 5ms/step - loss: 5.3772e-04 - val_loss: 8.4546e-04\n",
            "Epoch 66/100\n",
            "40/40 [==============================] - 0s 5ms/step - loss: 5.1280e-04 - val_loss: 8.3876e-04\n",
            "Epoch 67/100\n",
            "40/40 [==============================] - 0s 5ms/step - loss: 5.7490e-04 - val_loss: 0.0024\n",
            "Epoch 68/100\n",
            "40/40 [==============================] - 0s 5ms/step - loss: 5.2787e-04 - val_loss: 8.2735e-04\n",
            "Epoch 69/100\n",
            "40/40 [==============================] - 0s 5ms/step - loss: 5.6207e-04 - val_loss: 0.0010\n",
            "Epoch 70/100\n",
            "40/40 [==============================] - 0s 5ms/step - loss: 5.0621e-04 - val_loss: 0.0016\n",
            "Epoch 71/100\n",
            "40/40 [==============================] - 0s 5ms/step - loss: 4.8605e-04 - val_loss: 0.0014\n",
            "Epoch 72/100\n",
            "40/40 [==============================] - 0s 4ms/step - loss: 5.5131e-04 - val_loss: 8.7030e-04\n",
            "Epoch 73/100\n",
            "40/40 [==============================] - 0s 5ms/step - loss: 5.9170e-04 - val_loss: 0.0024\n",
            "Epoch 74/100\n",
            "40/40 [==============================] - 0s 5ms/step - loss: 5.0550e-04 - val_loss: 8.0762e-04\n",
            "Epoch 75/100\n",
            "40/40 [==============================] - 0s 6ms/step - loss: 6.0329e-04 - val_loss: 0.0022\n",
            "Epoch 76/100\n",
            "40/40 [==============================] - 0s 4ms/step - loss: 5.7414e-04 - val_loss: 8.2029e-04\n",
            "Epoch 77/100\n",
            "40/40 [==============================] - 0s 5ms/step - loss: 5.1022e-04 - val_loss: 8.5687e-04\n",
            "Epoch 78/100\n",
            "40/40 [==============================] - 0s 6ms/step - loss: 4.7824e-04 - val_loss: 8.1197e-04\n",
            "Epoch 79/100\n",
            "40/40 [==============================] - 0s 5ms/step - loss: 4.6933e-04 - val_loss: 0.0013\n",
            "Epoch 80/100\n",
            "40/40 [==============================] - 0s 5ms/step - loss: 5.4237e-04 - val_loss: 9.4291e-04\n",
            "Epoch 81/100\n",
            "40/40 [==============================] - 0s 5ms/step - loss: 5.3428e-04 - val_loss: 8.6464e-04\n",
            "Epoch 82/100\n",
            "40/40 [==============================] - 0s 5ms/step - loss: 4.7261e-04 - val_loss: 8.1959e-04\n",
            "Epoch 83/100\n",
            "40/40 [==============================] - 0s 5ms/step - loss: 4.7357e-04 - val_loss: 0.0010\n",
            "Epoch 84/100\n",
            "40/40 [==============================] - 0s 5ms/step - loss: 5.1751e-04 - val_loss: 0.0012\n",
            "Epoch 85/100\n",
            "40/40 [==============================] - 0s 6ms/step - loss: 4.6099e-04 - val_loss: 9.1005e-04\n",
            "Epoch 86/100\n",
            "40/40 [==============================] - 0s 6ms/step - loss: 4.5523e-04 - val_loss: 9.9980e-04\n",
            "Epoch 87/100\n",
            "40/40 [==============================] - 0s 5ms/step - loss: 4.4447e-04 - val_loss: 0.0010\n",
            "Epoch 88/100\n",
            "40/40 [==============================] - 0s 6ms/step - loss: 4.5916e-04 - val_loss: 0.0012\n",
            "Epoch 89/100\n",
            "40/40 [==============================] - 0s 5ms/step - loss: 5.1788e-04 - val_loss: 0.0012\n",
            "Epoch 90/100\n",
            "40/40 [==============================] - 0s 5ms/step - loss: 5.1085e-04 - val_loss: 7.7539e-04\n",
            "Epoch 91/100\n",
            "40/40 [==============================] - 0s 4ms/step - loss: 4.9962e-04 - val_loss: 0.0012\n",
            "Epoch 92/100\n",
            "40/40 [==============================] - 0s 4ms/step - loss: 4.5197e-04 - val_loss: 0.0012\n",
            "Epoch 93/100\n",
            "40/40 [==============================] - 0s 6ms/step - loss: 5.1464e-04 - val_loss: 8.0826e-04\n",
            "Epoch 94/100\n",
            "40/40 [==============================] - 0s 5ms/step - loss: 4.5200e-04 - val_loss: 8.7398e-04\n",
            "Epoch 95/100\n",
            "40/40 [==============================] - 0s 5ms/step - loss: 5.0910e-04 - val_loss: 7.7795e-04\n",
            "Epoch 96/100\n",
            "40/40 [==============================] - 0s 6ms/step - loss: 4.4909e-04 - val_loss: 0.0010\n",
            "Epoch 97/100\n",
            "40/40 [==============================] - 0s 8ms/step - loss: 4.9560e-04 - val_loss: 7.7076e-04\n",
            "Epoch 98/100\n",
            "40/40 [==============================] - 0s 7ms/step - loss: 4.9430e-04 - val_loss: 0.0010\n",
            "Epoch 99/100\n",
            "40/40 [==============================] - 0s 8ms/step - loss: 5.7121e-04 - val_loss: 7.7315e-04\n",
            "Epoch 100/100\n",
            "40/40 [==============================] - 0s 7ms/step - loss: 4.6434e-04 - val_loss: 8.5706e-04\n"
          ]
        }
      ]
    },
    {
      "cell_type": "code",
      "source": [
        "# 10. Dự báo dữ liệu test, val\n",
        "train_predict=model.predict(X_train)\n",
        "y_pred=model.predict(X_test)\n",
        "y_pred_val=model.predict(X_val)"
      ],
      "metadata": {
        "colab": {
          "base_uri": "https://localhost:8080/"
        },
        "id": "ucLkuwJ8AE-5",
        "outputId": "6ab342dc-81ec-4cbf-9b42-669d6bc7c466"
      },
      "execution_count": null,
      "outputs": [
        {
          "output_type": "stream",
          "name": "stdout",
          "text": [
            "40/40 [==============================] - 0s 2ms/step\n",
            "12/12 [==============================] - 0s 3ms/step\n",
            "6/6 [==============================] - 0s 2ms/step\n"
          ]
        }
      ]
    },
    {
      "cell_type": "code",
      "source": [
        "# 11. Chuẩn hóa dữ liệu y_pred, y_pred_val\n",
        "train_predict=scaler.inverse_transform(train_predict)\n",
        "y_pred=scaler.inverse_transform(y_pred)\n",
        "y_pred_val=scaler.inverse_transform(y_pred_val)"
      ],
      "metadata": {
        "id": "p4vQUKtZAHw1"
      },
      "execution_count": null,
      "outputs": []
    },
    {
      "cell_type": "code",
      "source": [
        "#đánh giá mô hình\n",
        "def evaluation_model(model):\n",
        "  # evaluate trên tập test\n",
        "    loss_test = model.evaluate(X_test, ytest, verbose=0)\n",
        "    print(\"loss_test: \", loss_test)\n",
        "\n",
        "  # evaluate trên tập val\n",
        "    loss_val = model.evaluate(X_val, yval, verbose=0)\n",
        "    print(\"loss_val: \", loss_val)"
      ],
      "metadata": {
        "id": "eiVQHx5yBEL1"
      },
      "execution_count": null,
      "outputs": []
    },
    {
      "cell_type": "code",
      "source": [
        "\n",
        "# 12. Đánh giá độ chính xác thuật toán bằng MAE,RMSE, MAPE\n",
        "test_mae = mean_absolute_error(y_pred, ytest)\n",
        "test_rmse = np.sqrt(np.mean((y_pred - ytest)**2))\n",
        "test_mape = mean_absolute_percentage_error(y_pred, ytest)\n",
        "print('Testing MAE:', test_mae)\n",
        "print('Testing RMSE:', test_rmse)\n",
        "print('Testing MAPE:', test_mape)\n",
        "print('---------------------------')\n",
        "val_mae = mean_absolute_error(y_pred_val, yval)\n",
        "val_rmse = np.sqrt(np.mean((y_pred_val - yval)**2))\n",
        "val_mape = mean_absolute_percentage_error(y_pred_val, yval)\n",
        "print('Validation MAE:', val_mae)\n",
        "print('Validation RMSE:', val_rmse)\n",
        "print('Validation MAPE:', val_mape)\n",
        "\n"
      ],
      "metadata": {
        "colab": {
          "base_uri": "https://localhost:8080/"
        },
        "id": "5gRy-X3mANCo",
        "outputId": "6ce6d1d1-c146-4a88-8eee-c97e43503467"
      },
      "execution_count": null,
      "outputs": [
        {
          "output_type": "stream",
          "name": "stdout",
          "text": [
            "Testing MAE: 1980.5802556873234\n",
            "Testing RMSE: 2122.4376510951015\n",
            "Testing MAPE: 0.999793264965566\n",
            "---------------------------\n",
            "Validation MAE: 1639.3015768699654\n",
            "Validation RMSE: 1650.428526394421\n",
            "Validation MAPE: 0.9997906897864787\n"
          ]
        }
      ]
    },
    {
      "cell_type": "code",
      "source": [
        "evaluation_model(model)"
      ],
      "metadata": {
        "colab": {
          "base_uri": "https://localhost:8080/"
        },
        "id": "QZgXQ1mfBNMe",
        "outputId": "74e59f62-baec-454f-adf1-625dcf76e519"
      },
      "execution_count": null,
      "outputs": [
        {
          "output_type": "stream",
          "name": "stdout",
          "text": [
            "loss_test:  0.0008570574573241174\n",
            "loss_val:  0.000338588171871379\n"
          ]
        }
      ]
    },
    {
      "cell_type": "code",
      "source": [
        "# 13. Dự báo 30 ngày tiếp theo\n",
        "x_input = val_data[30:].reshape(1,-1)\n",
        "x_input.shape\n",
        "\n",
        "temp_input=list(x_input)\n",
        "temp_input=temp_input[0].tolist()\n",
        "\n",
        "from numpy import array\n",
        "\n",
        "lst_output=[]\n",
        "n_steps=10\n",
        "i=0\n",
        "while(i<30):\n",
        "\n",
        "    if(len(temp_input)>10):\n",
        "        #print(temp_input)\n",
        "        x_input=np.array(temp_input[-10:])\n",
        "        print(\"{} day input {}\".format(i,x_input))\n",
        "        #x_input=x_input.reshape(1,-1)\n",
        "        x_input = x_input.reshape((1, n_steps, 1))\n",
        "\n",
        "        #print(x_input)\n",
        "        yhat = model.predict(x_input, verbose=0)\n",
        "        print(\"{} day output {}\".format(i,yhat))\n",
        "        temp_input.extend(yhat[0].tolist())\n",
        "        temp_input=temp_input[1:]\n",
        "        #print(temp_input)\n",
        "        lst_output.extend(yhat.tolist())\n",
        "        i=i+1\n",
        "    else:\n",
        "        x_input = x_input.reshape((1, n_steps,1))\n",
        "        yhat = model.predict(x_input, verbose=0)\n",
        "        print(yhat[0])\n",
        "        temp_input.extend(yhat[0].tolist())\n",
        "        print(len(temp_input))\n",
        "        lst_output.extend(yhat.tolist())\n",
        "        i=i+1\n"
      ],
      "metadata": {
        "colab": {
          "base_uri": "https://localhost:8080/"
        },
        "id": "yI00zMKhARcm",
        "outputId": "c38e1069-10ab-48cf-f2cd-1b831b149e76"
      },
      "execution_count": null,
      "outputs": [
        {
          "output_type": "stream",
          "name": "stdout",
          "text": [
            "0 day input [0.35304251 0.35073982 0.3500014  0.33127838 0.33445122 0.34527005\n",
            " 0.34749843 0.3460968  0.34970989 0.34793483]\n",
            "0 day output [[0.3253769]]\n",
            "1 day input [0.35073982 0.3500014  0.33127838 0.33445122 0.34527005 0.34749843\n",
            " 0.3460968  0.34970989 0.34793483 0.3253769 ]\n",
            "1 day output [[0.3282463]]\n",
            "2 day input [0.3500014  0.33127838 0.33445122 0.34527005 0.34749843 0.3460968\n",
            " 0.34970989 0.34793483 0.3253769  0.3282463 ]\n",
            "2 day output [[0.321645]]\n",
            "3 day input [0.33127838 0.33445122 0.34527005 0.34749843 0.3460968  0.34970989\n",
            " 0.34793483 0.3253769  0.3282463  0.32164499]\n",
            "3 day output [[0.31270966]]\n",
            "4 day input [0.33445122 0.34527005 0.34749843 0.3460968  0.34970989 0.34793483\n",
            " 0.3253769  0.3282463  0.32164499 0.31270966]\n",
            "4 day output [[0.3110608]]\n",
            "5 day input [0.34527005 0.34749843 0.3460968  0.34970989 0.34793483 0.3253769\n",
            " 0.3282463  0.32164499 0.31270966 0.31106079]\n",
            "5 day output [[0.31097013]]\n",
            "6 day input [0.34749843 0.3460968  0.34970989 0.34793483 0.3253769  0.3282463\n",
            " 0.32164499 0.31270966 0.31106079 0.31097013]\n",
            "6 day output [[0.30020562]]\n",
            "7 day input [0.3460968  0.34970989 0.34793483 0.3253769  0.3282463  0.32164499\n",
            " 0.31270966 0.31106079 0.31097013 0.30020562]\n",
            "7 day output [[0.29677498]]\n",
            "8 day input [0.34970989 0.34793483 0.3253769  0.3282463  0.32164499 0.31270966\n",
            " 0.31106079 0.31097013 0.30020562 0.29677498]\n",
            "8 day output [[0.29528043]]\n",
            "9 day input [0.34793483 0.3253769  0.3282463  0.32164499 0.31270966 0.31106079\n",
            " 0.31097013 0.30020562 0.29677498 0.29528043]\n",
            "9 day output [[0.29179415]]\n",
            "10 day input [0.3253769  0.3282463  0.32164499 0.31270966 0.31106079 0.31097013\n",
            " 0.30020562 0.29677498 0.29528043 0.29179415]\n",
            "10 day output [[0.28762007]]\n",
            "11 day input [0.3282463  0.32164499 0.31270966 0.31106079 0.31097013 0.30020562\n",
            " 0.29677498 0.29528043 0.29179415 0.28762007]\n",
            "11 day output [[0.2862994]]\n",
            "12 day input [0.32164499 0.31270966 0.31106079 0.31097013 0.30020562 0.29677498\n",
            " 0.29528043 0.29179415 0.28762007 0.28629941]\n",
            "12 day output [[0.27964243]]\n",
            "13 day input [0.31270966 0.31106079 0.31097013 0.30020562 0.29677498 0.29528043\n",
            " 0.29179415 0.28762007 0.28629941 0.27964243]\n",
            "13 day output [[0.2747142]]\n",
            "14 day input [0.31106079 0.31097013 0.30020562 0.29677498 0.29528043 0.29179415\n",
            " 0.28762007 0.28629941 0.27964243 0.2747142 ]\n",
            "14 day output [[0.2724472]]\n",
            "15 day input [0.31097013 0.30020562 0.29677498 0.29528043 0.29179415 0.28762007\n",
            " 0.28629941 0.27964243 0.2747142  0.2724472 ]\n",
            "15 day output [[0.27081752]]\n",
            "16 day input [0.30020562 0.29677498 0.29528043 0.29179415 0.28762007 0.28629941\n",
            " 0.27964243 0.2747142  0.2724472  0.27081752]\n",
            "16 day output [[0.26558265]]\n",
            "17 day input [0.29677498 0.29528043 0.29179415 0.28762007 0.28629941 0.27964243\n",
            " 0.2747142  0.2724472  0.27081752 0.26558265]\n",
            "17 day output [[0.2634307]]\n",
            "18 day input [0.29528043 0.29179415 0.28762007 0.28629941 0.27964243 0.2747142\n",
            " 0.2724472  0.27081752 0.26558265 0.26343071]\n",
            "18 day output [[0.2596514]]\n",
            "19 day input [0.29179415 0.28762007 0.28629941 0.27964243 0.2747142  0.2724472\n",
            " 0.27081752 0.26558265 0.26343071 0.25965139]\n",
            "19 day output [[0.25537157]]\n",
            "20 day input [0.28762007 0.28629941 0.27964243 0.2747142  0.2724472  0.27081752\n",
            " 0.26558265 0.26343071 0.25965139 0.25537157]\n",
            "20 day output [[0.25300887]]\n",
            "21 day input [0.28629941 0.27964243 0.2747142  0.2724472  0.27081752 0.26558265\n",
            " 0.26343071 0.25965139 0.25537157 0.25300887]\n",
            "21 day output [[0.25170317]]\n",
            "22 day input [0.27964243 0.2747142  0.2724472  0.27081752 0.26558265 0.26343071\n",
            " 0.25965139 0.25537157 0.25300887 0.25170317]\n",
            "22 day output [[0.24752453]]\n",
            "23 day input [0.2747142  0.2724472  0.27081752 0.26558265 0.26343071 0.25965139\n",
            " 0.25537157 0.25300887 0.25170317 0.24752453]\n",
            "23 day output [[0.24383466]]\n",
            "24 day input [0.2724472  0.27081752 0.26558265 0.26343071 0.25965139 0.25537157\n",
            " 0.25300887 0.25170317 0.24752453 0.24383466]\n",
            "24 day output [[0.24083225]]\n",
            "25 day input [0.27081752 0.26558265 0.26343071 0.25965139 0.25537157 0.25300887\n",
            " 0.25170317 0.24752453 0.24383466 0.24083225]\n",
            "25 day output [[0.23762289]]\n",
            "26 day input [0.26558265 0.26343071 0.25965139 0.25537157 0.25300887 0.25170317\n",
            " 0.24752453 0.24383466 0.24083225 0.23762289]\n",
            "26 day output [[0.23486151]]\n",
            "27 day input [0.26343071 0.25965139 0.25537157 0.25300887 0.25170317 0.24752453\n",
            " 0.24383466 0.24083225 0.23762289 0.23486151]\n",
            "27 day output [[0.23343994]]\n",
            "28 day input [0.25965139 0.25537157 0.25300887 0.25170317 0.24752453 0.24383466\n",
            " 0.24083225 0.23762289 0.23486151 0.23343994]\n",
            "28 day output [[0.23065782]]\n",
            "29 day input [0.25537157 0.25300887 0.25170317 0.24752453 0.24383466 0.24083225\n",
            " 0.23762289 0.23486151 0.23343994 0.23065782]\n",
            "29 day output [[0.22654976]]\n"
          ]
        }
      ]
    },
    {
      "cell_type": "code",
      "source": [
        "#đưa giá trị về đơn vị ban đầu trước khi đc chuẩn hóa\n",
        "y_future = scaler.inverse_transform(lst_output)\n",
        "y_future"
      ],
      "metadata": {
        "colab": {
          "base_uri": "https://localhost:8080/"
        },
        "id": "bLCr5Uuu8kC2",
        "outputId": "cd932eb8-7ab9-4619-9544-94e674b0b871"
      },
      "execution_count": null,
      "outputs": [
        {
          "output_type": "execute_result",
          "data": {
            "text/plain": [
              "array([[1622.61839618],\n",
              "       [1636.18427326],\n",
              "       [1604.97476701],\n",
              "       [1562.73048966],\n",
              "       [1554.93498192],\n",
              "       [1554.50636777],\n",
              "       [1503.61414496],\n",
              "       [1487.39486173],\n",
              "       [1480.32892796],\n",
              "       [1463.84658667],\n",
              "       [1444.11244205],\n",
              "       [1437.86865275],\n",
              "       [1406.39594755],\n",
              "       [1383.09635887],\n",
              "       [1372.37846917],\n",
              "       [1364.67370025],\n",
              "       [1339.92440384],\n",
              "       [1329.7505244 ],\n",
              "       [1311.88272524],\n",
              "       [1291.64867169],\n",
              "       [1280.47835595],\n",
              "       [1274.30529786],\n",
              "       [1254.54959572],\n",
              "       [1237.1047043 ],\n",
              "       [1222.90999589],\n",
              "       [1207.73681577],\n",
              "       [1194.68162638],\n",
              "       [1187.96075376],\n",
              "       [1174.8074988 ],\n",
              "       [1155.38551547]])"
            ]
          },
          "metadata": {},
          "execution_count": 33
        }
      ]
    },
    {
      "cell_type": "code",
      "source": [
        "# 14.Vẽ hình\n",
        "import matplotlib.pyplot as plt\n",
        "plt.figure(figsize=(12, 8))\n",
        "\n",
        "train_data_index = pd.RangeIndex(start=0, stop=train_size, step=1)\n",
        "plt.plot(scaler.inverse_transform(train_data))\n",
        "\n",
        "test_data_index = pd.RangeIndex(start=train_size, stop=train_size+test_size, step=1)\n",
        "plt.plot(test_data_index,scaler.inverse_transform(test_data))\n",
        "test_data_index = pd.RangeIndex(start=train_size+11, stop=train_size+test_size, step=1)\n",
        "plt.plot(test_data_index,(y_pred[:-1]))\n",
        "\n",
        "val_data_index = pd.RangeIndex(start=train_size+test_size, stop=train_size+test_size+val_size, step=1)\n",
        "plt.plot(val_data_index,scaler.inverse_transform(val_data))\n",
        "val_data_index = pd.RangeIndex(start=train_size+test_size+11, stop=train_size+test_size+val_size, step=1)\n",
        "plt.plot(val_data_index,y_pred_val[:-1])\n",
        "\n",
        "prediect_data_index = pd.RangeIndex(start=len(df1)-1, stop=len(df1)+29, step=1)\n",
        "plt.plot(prediect_data_index,scaler.inverse_transform(lst_output))\n",
        "plt.legend(['Train','Test','Predict','Validate','ValidatePred','Predict30days'])\n",
        "plt.show()"
      ],
      "metadata": {
        "colab": {
          "base_uri": "https://localhost:8080/",
          "height": 676
        },
        "id": "n0Oe7M0LAUe1",
        "outputId": "8b789c72-37fe-4a6b-d3db-0809b24638a1"
      },
      "execution_count": null,
      "outputs": [
        {
          "output_type": "display_data",
          "data": {
            "text/plain": [
              "<Figure size 1200x800 with 1 Axes>"
            ],
            "image/png": "[encoded data removed]"
          },
          "metadata": {}
        }
      ]
    },
    {
      "cell_type": "markdown",
      "source": [
        "#6 : 2 : 2"
      ],
      "metadata": {
        "id": "Y5de4srrRjO6"
      }
    },
    {
      "cell_type": "code",
      "source": [
        "df = pd.read_csv('ETH-USD.csv')\n",
        "df1=df.reset_index()['Close']"
      ],
      "metadata": {
        "id": "8OjDA22CAqnR"
      },
      "execution_count": null,
      "outputs": []
    },
    {
      "cell_type": "code",
      "source": [
        " # 3. Scaler data\n",
        "scaler=MinMaxScaler(feature_range=(0,1))\n",
        "df1=scaler.fit_transform(np.array(df1).reshape(-1,1))\n"
      ],
      "metadata": {
        "id": "I5GGrYC_AyRF"
      },
      "execution_count": null,
      "outputs": []
    },
    {
      "cell_type": "code",
      "source": [
        "#4. Chia train test 6:2:2\n",
        "train_size = int(0.6 * len(df))\n",
        "test_size = int(0.2 * len(df))\n",
        "val_size = len(df1) - train_size - test_size\n",
        "\n",
        "train_data = df1[:train_size]\n",
        "test_data = df1[train_size:train_size+test_size]\n",
        "val_data = df1[train_size+test_size:]"
      ],
      "metadata": {
        "id": "WTlWWHdNeg4I"
      },
      "execution_count": null,
      "outputs": []
    },
    {
      "cell_type": "code",
      "source": [
        "# convert an array of values into a dataset matrix\n",
        "def create_dataset(dataset, time_step=1):\n",
        "\tdataX, dataY = [], []\n",
        "\tfor i in range(len(dataset)-time_step):\n",
        "\n",
        "\t\tdataX.append(dataset[i:i+time_step])\n",
        "\t\tdataY.append(dataset[i + time_step])\n",
        "\treturn np.array(dataX), np.array(dataY)\n",
        "#6 Tạo input dataset cho train, val, test\n",
        "\n",
        "time_step = 10\n",
        "\n",
        "X_train, y_train = create_dataset(train_data, time_step)\n",
        "X_val, yval = create_dataset(val_data, time_step)\n",
        "X_test, ytest = create_dataset(test_data, time_step)"
      ],
      "metadata": {
        "id": "_ET09B61em5O"
      },
      "execution_count": null,
      "outputs": []
    },
    {
      "cell_type": "code",
      "source": [
        "# 7. Reshape input to be [samples, time steps, features] which is required for LFCN\n",
        "X_train =X_train.reshape(X_train.shape[0],X_train.shape[1] , 1)\n",
        "X_test = X_test.reshape(X_test.shape[0],X_test.shape[1] , 1)\n",
        "X_val = X_val.reshape(X_val.shape[0],X_val.shape[1] , 1)"
      ],
      "metadata": {
        "id": "FoATFSc7erdC"
      },
      "execution_count": null,
      "outputs": []
    },
    {
      "cell_type": "code",
      "source": [
        "# define FCN model\n",
        "def fcn():\n",
        "    model = Sequential()\n",
        "    model.add(Conv1D(filters=32, kernel_size=3, activation='relu', input_shape=(10, 1)))\n",
        "    model.add(Conv1D(filters=64, kernel_size=3, activation='relu'))\n",
        "    model.add(GlobalMaxPooling1D())\n",
        "    model.add(Dense(64, activation='relu'))\n",
        "    model.add(Dense(1))\n",
        "    return model"
      ],
      "metadata": {
        "id": "rTQaFPkaewS9"
      },
      "execution_count": null,
      "outputs": []
    },
    {
      "cell_type": "code",
      "source": [
        "model= fcn()\n",
        "model.summary()\n"
      ],
      "metadata": {
        "colab": {
          "base_uri": "https://localhost:8080/"
        },
        "id": "YeZNZvE3e8oZ",
        "outputId": "69a7b95e-9133-495d-9618-16a5bb847b08"
      },
      "execution_count": null,
      "outputs": [
        {
          "output_type": "stream",
          "name": "stdout",
          "text": [
            "Model: \"sequential_2\"\n",
            "_________________________________________________________________\n",
            " Layer (type)                Output Shape              Param #   \n",
            "=================================================================\n",
            " conv1d_4 (Conv1D)           (None, 8, 32)             128       \n",
            "                                                                 \n",
            " conv1d_5 (Conv1D)           (None, 6, 64)             6208      \n",
            "                                                                 \n",
            " global_max_pooling1d_2 (Glo  (None, 64)               0         \n",
            " balMaxPooling1D)                                                \n",
            "                                                                 \n",
            " dense_4 (Dense)             (None, 64)                4160      \n",
            "                                                                 \n",
            " dense_5 (Dense)             (None, 1)                 65        \n",
            "                                                                 \n",
            "=================================================================\n",
            "Total params: 10,561\n",
            "Trainable params: 10,561\n",
            "Non-trainable params: 0\n",
            "_________________________________________________________________\n"
          ]
        }
      ]
    },
    {
      "cell_type": "code",
      "source": [
        "model.compile(optimizer='adam', loss='mean_squared_error')\n",
        "history = model.fit(X_train, y_train, validation_data=(X_test, ytest), epochs=100, batch_size=32)"
      ],
      "metadata": {
        "colab": {
          "base_uri": "https://localhost:8080/"
        },
        "id": "YoqsqESBGv5F",
        "outputId": "3aca9255-0e2f-48b5-c810-bcd4f9a66e26"
      },
      "execution_count": null,
      "outputs": [
        {
          "output_type": "stream",
          "name": "stdout",
          "text": [
            "Epoch 1/100\n",
            "34/34 [==============================] - 2s 10ms/step - loss: 0.0108 - val_loss: 0.0032\n",
            "Epoch 2/100\n",
            "34/34 [==============================] - 0s 5ms/step - loss: 8.6570e-04 - val_loss: 0.0039\n",
            "Epoch 3/100\n",
            "34/34 [==============================] - 0s 5ms/step - loss: 6.6891e-04 - val_loss: 0.0038\n",
            "Epoch 4/100\n",
            "34/34 [==============================] - 0s 5ms/step - loss: 6.6181e-04 - val_loss: 0.0036\n",
            "Epoch 5/100\n",
            "34/34 [==============================] - 0s 5ms/step - loss: 6.5651e-04 - val_loss: 0.0047\n",
            "Epoch 6/100\n",
            "34/34 [==============================] - 0s 5ms/step - loss: 6.1846e-04 - val_loss: 0.0036\n",
            "Epoch 7/100\n",
            "34/34 [==============================] - 0s 6ms/step - loss: 6.1813e-04 - val_loss: 0.0037\n",
            "Epoch 8/100\n",
            "34/34 [==============================] - 0s 5ms/step - loss: 5.9526e-04 - val_loss: 0.0062\n",
            "Epoch 9/100\n",
            "34/34 [==============================] - 0s 5ms/step - loss: 5.5326e-04 - val_loss: 0.0031\n",
            "Epoch 10/100\n",
            "34/34 [==============================] - 0s 7ms/step - loss: 5.0713e-04 - val_loss: 0.0034\n",
            "Epoch 11/100\n",
            "34/34 [==============================] - 0s 5ms/step - loss: 5.8198e-04 - val_loss: 0.0049\n",
            "Epoch 12/100\n",
            "34/34 [==============================] - 0s 5ms/step - loss: 5.0456e-04 - val_loss: 0.0025\n",
            "Epoch 13/100\n",
            "34/34 [==============================] - 0s 5ms/step - loss: 5.4565e-04 - val_loss: 0.0023\n",
            "Epoch 14/100\n",
            "34/34 [==============================] - 0s 5ms/step - loss: 3.9977e-04 - val_loss: 0.0036\n",
            "Epoch 15/100\n",
            "34/34 [==============================] - 0s 5ms/step - loss: 5.2140e-04 - val_loss: 0.0042\n",
            "Epoch 16/100\n",
            "34/34 [==============================] - 0s 6ms/step - loss: 5.2297e-04 - val_loss: 0.0028\n",
            "Epoch 17/100\n",
            "34/34 [==============================] - 0s 5ms/step - loss: 4.2190e-04 - val_loss: 0.0024\n",
            "Epoch 18/100\n",
            "34/34 [==============================] - 0s 5ms/step - loss: 3.8945e-04 - val_loss: 0.0043\n",
            "Epoch 19/100\n",
            "34/34 [==============================] - 0s 7ms/step - loss: 3.9548e-04 - val_loss: 0.0021\n",
            "Epoch 20/100\n",
            "34/34 [==============================] - 0s 6ms/step - loss: 3.7740e-04 - val_loss: 0.0051\n",
            "Epoch 21/100\n",
            "34/34 [==============================] - 0s 6ms/step - loss: 3.4292e-04 - val_loss: 0.0027\n",
            "Epoch 22/100\n",
            "34/34 [==============================] - 0s 5ms/step - loss: 3.6634e-04 - val_loss: 0.0032\n",
            "Epoch 23/100\n",
            "34/34 [==============================] - 0s 5ms/step - loss: 3.7998e-04 - val_loss: 0.0039\n",
            "Epoch 24/100\n",
            "34/34 [==============================] - 0s 5ms/step - loss: 3.1528e-04 - val_loss: 0.0027\n",
            "Epoch 25/100\n",
            "34/34 [==============================] - 0s 5ms/step - loss: 3.2317e-04 - val_loss: 0.0074\n",
            "Epoch 26/100\n",
            "34/34 [==============================] - 0s 5ms/step - loss: 4.4900e-04 - val_loss: 0.0021\n",
            "Epoch 27/100\n",
            "34/34 [==============================] - 0s 5ms/step - loss: 4.4239e-04 - val_loss: 0.0021\n",
            "Epoch 28/100\n",
            "34/34 [==============================] - 0s 5ms/step - loss: 3.2772e-04 - val_loss: 0.0033\n",
            "Epoch 29/100\n",
            "34/34 [==============================] - 0s 6ms/step - loss: 3.5667e-04 - val_loss: 0.0047\n",
            "Epoch 30/100\n",
            "34/34 [==============================] - 0s 5ms/step - loss: 5.8807e-04 - val_loss: 0.0031\n",
            "Epoch 31/100\n",
            "34/34 [==============================] - 0s 5ms/step - loss: 3.1950e-04 - val_loss: 0.0023\n",
            "Epoch 32/100\n",
            "34/34 [==============================] - 0s 6ms/step - loss: 3.5078e-04 - val_loss: 0.0048\n",
            "Epoch 33/100\n",
            "34/34 [==============================] - 0s 7ms/step - loss: 3.4438e-04 - val_loss: 0.0033\n",
            "Epoch 34/100\n",
            "34/34 [==============================] - 0s 8ms/step - loss: 3.4056e-04 - val_loss: 0.0032\n",
            "Epoch 35/100\n",
            "34/34 [==============================] - 0s 8ms/step - loss: 3.2689e-04 - val_loss: 0.0022\n",
            "Epoch 36/100\n",
            "34/34 [==============================] - 0s 8ms/step - loss: 3.1946e-04 - val_loss: 0.0020\n",
            "Epoch 37/100\n",
            "34/34 [==============================] - 0s 8ms/step - loss: 2.9059e-04 - val_loss: 0.0027\n",
            "Epoch 38/100\n",
            "34/34 [==============================] - 0s 9ms/step - loss: 3.0401e-04 - val_loss: 0.0039\n",
            "Epoch 39/100\n",
            "34/34 [==============================] - 0s 8ms/step - loss: 3.0578e-04 - val_loss: 0.0026\n",
            "Epoch 40/100\n",
            "34/34 [==============================] - 0s 9ms/step - loss: 2.7239e-04 - val_loss: 0.0025\n",
            "Epoch 41/100\n",
            "34/34 [==============================] - 0s 8ms/step - loss: 3.5690e-04 - val_loss: 0.0040\n",
            "Epoch 42/100\n",
            "34/34 [==============================] - 0s 8ms/step - loss: 3.1061e-04 - val_loss: 0.0020\n",
            "Epoch 43/100\n",
            "34/34 [==============================] - 0s 7ms/step - loss: 3.4405e-04 - val_loss: 0.0022\n",
            "Epoch 44/100\n",
            "34/34 [==============================] - 0s 5ms/step - loss: 2.9207e-04 - val_loss: 0.0021\n",
            "Epoch 45/100\n",
            "34/34 [==============================] - 0s 5ms/step - loss: 2.6002e-04 - val_loss: 0.0061\n",
            "Epoch 46/100\n",
            "34/34 [==============================] - 0s 6ms/step - loss: 2.7178e-04 - val_loss: 0.0023\n",
            "Epoch 47/100\n",
            "34/34 [==============================] - 0s 5ms/step - loss: 3.1106e-04 - val_loss: 0.0021\n",
            "Epoch 48/100\n",
            "34/34 [==============================] - 0s 5ms/step - loss: 2.9710e-04 - val_loss: 0.0053\n",
            "Epoch 49/100\n",
            "34/34 [==============================] - 0s 5ms/step - loss: 2.7530e-04 - val_loss: 0.0063\n",
            "Epoch 50/100\n",
            "34/34 [==============================] - 0s 5ms/step - loss: 3.9432e-04 - val_loss: 0.0021\n",
            "Epoch 51/100\n",
            "34/34 [==============================] - 0s 7ms/step - loss: 3.0994e-04 - val_loss: 0.0018\n",
            "Epoch 52/100\n",
            "34/34 [==============================] - 0s 7ms/step - loss: 2.8897e-04 - val_loss: 0.0023\n",
            "Epoch 53/100\n",
            "34/34 [==============================] - 0s 5ms/step - loss: 3.6313e-04 - val_loss: 0.0017\n",
            "Epoch 54/100\n",
            "34/34 [==============================] - 0s 5ms/step - loss: 3.5540e-04 - val_loss: 0.0029\n",
            "Epoch 55/100\n",
            "34/34 [==============================] - 0s 5ms/step - loss: 2.5432e-04 - val_loss: 0.0019\n",
            "Epoch 56/100\n",
            "34/34 [==============================] - 0s 5ms/step - loss: 2.7125e-04 - val_loss: 0.0037\n",
            "Epoch 57/100\n",
            "34/34 [==============================] - 0s 5ms/step - loss: 2.5814e-04 - val_loss: 0.0024\n",
            "Epoch 58/100\n",
            "34/34 [==============================] - 0s 5ms/step - loss: 3.0891e-04 - val_loss: 0.0043\n",
            "Epoch 59/100\n",
            "34/34 [==============================] - 0s 6ms/step - loss: 2.6532e-04 - val_loss: 0.0060\n",
            "Epoch 60/100\n",
            "34/34 [==============================] - 0s 5ms/step - loss: 2.7885e-04 - val_loss: 0.0023\n",
            "Epoch 61/100\n",
            "34/34 [==============================] - 0s 5ms/step - loss: 3.1647e-04 - val_loss: 0.0017\n",
            "Epoch 62/100\n",
            "34/34 [==============================] - 0s 5ms/step - loss: 3.3054e-04 - val_loss: 0.0018\n",
            "Epoch 63/100\n",
            "34/34 [==============================] - 0s 5ms/step - loss: 2.8792e-04 - val_loss: 0.0033\n",
            "Epoch 64/100\n",
            "34/34 [==============================] - 0s 6ms/step - loss: 2.3399e-04 - val_loss: 0.0021\n",
            "Epoch 65/100\n",
            "34/34 [==============================] - 0s 5ms/step - loss: 3.6355e-04 - val_loss: 0.0017\n",
            "Epoch 66/100\n",
            "34/34 [==============================] - 0s 5ms/step - loss: 2.7194e-04 - val_loss: 0.0038\n",
            "Epoch 67/100\n",
            "34/34 [==============================] - 0s 7ms/step - loss: 2.4356e-04 - val_loss: 0.0037\n",
            "Epoch 68/100\n",
            "34/34 [==============================] - 0s 5ms/step - loss: 2.7877e-04 - val_loss: 0.0026\n",
            "Epoch 69/100\n",
            "34/34 [==============================] - 0s 7ms/step - loss: 2.6901e-04 - val_loss: 0.0056\n",
            "Epoch 70/100\n",
            "34/34 [==============================] - 0s 5ms/step - loss: 2.8511e-04 - val_loss: 0.0031\n",
            "Epoch 71/100\n",
            "34/34 [==============================] - 0s 5ms/step - loss: 2.7383e-04 - val_loss: 0.0033\n",
            "Epoch 72/100\n",
            "34/34 [==============================] - 0s 5ms/step - loss: 2.5277e-04 - val_loss: 0.0026\n",
            "Epoch 73/100\n",
            "34/34 [==============================] - 0s 5ms/step - loss: 2.3898e-04 - val_loss: 0.0043\n",
            "Epoch 74/100\n",
            "34/34 [==============================] - 0s 7ms/step - loss: 2.8217e-04 - val_loss: 0.0023\n",
            "Epoch 75/100\n",
            "34/34 [==============================] - 0s 5ms/step - loss: 3.2212e-04 - val_loss: 0.0080\n",
            "Epoch 76/100\n",
            "34/34 [==============================] - 0s 5ms/step - loss: 3.2280e-04 - val_loss: 0.0055\n",
            "Epoch 77/100\n",
            "34/34 [==============================] - 0s 7ms/step - loss: 2.3994e-04 - val_loss: 0.0051\n",
            "Epoch 78/100\n",
            "34/34 [==============================] - 0s 6ms/step - loss: 2.3416e-04 - val_loss: 0.0021\n",
            "Epoch 79/100\n",
            "34/34 [==============================] - 0s 5ms/step - loss: 2.8854e-04 - val_loss: 0.0045\n",
            "Epoch 80/100\n",
            "34/34 [==============================] - 0s 7ms/step - loss: 3.2171e-04 - val_loss: 0.0029\n",
            "Epoch 81/100\n",
            "34/34 [==============================] - 0s 5ms/step - loss: 3.1980e-04 - val_loss: 0.0040\n",
            "Epoch 82/100\n",
            "34/34 [==============================] - 0s 5ms/step - loss: 2.1983e-04 - val_loss: 0.0020\n",
            "Epoch 83/100\n",
            "34/34 [==============================] - 0s 5ms/step - loss: 2.2722e-04 - val_loss: 0.0064\n",
            "Epoch 84/100\n",
            "34/34 [==============================] - 0s 5ms/step - loss: 2.6720e-04 - val_loss: 0.0019\n",
            "Epoch 85/100\n",
            "34/34 [==============================] - 0s 5ms/step - loss: 3.5015e-04 - val_loss: 0.0023\n",
            "Epoch 86/100\n",
            "34/34 [==============================] - 0s 5ms/step - loss: 3.5255e-04 - val_loss: 0.0021\n",
            "Epoch 87/100\n",
            "34/34 [==============================] - 0s 5ms/step - loss: 2.5496e-04 - val_loss: 0.0023\n",
            "Epoch 88/100\n",
            "34/34 [==============================] - 0s 5ms/step - loss: 2.8286e-04 - val_loss: 0.0018\n",
            "Epoch 89/100\n",
            "34/34 [==============================] - 0s 5ms/step - loss: 2.1118e-04 - val_loss: 0.0037\n",
            "Epoch 90/100\n",
            "34/34 [==============================] - 0s 5ms/step - loss: 2.0337e-04 - val_loss: 0.0027\n",
            "Epoch 91/100\n",
            "34/34 [==============================] - 0s 5ms/step - loss: 2.5969e-04 - val_loss: 0.0040\n",
            "Epoch 92/100\n",
            "34/34 [==============================] - 0s 5ms/step - loss: 2.6575e-04 - val_loss: 0.0020\n",
            "Epoch 93/100\n",
            "34/34 [==============================] - 0s 4ms/step - loss: 2.9044e-04 - val_loss: 0.0049\n",
            "Epoch 94/100\n",
            "34/34 [==============================] - 0s 6ms/step - loss: 2.8025e-04 - val_loss: 0.0024\n",
            "Epoch 95/100\n",
            "34/34 [==============================] - 0s 5ms/step - loss: 2.2479e-04 - val_loss: 0.0087\n",
            "Epoch 96/100\n",
            "34/34 [==============================] - 0s 7ms/step - loss: 2.7941e-04 - val_loss: 0.0035\n",
            "Epoch 97/100\n",
            "34/34 [==============================] - 0s 8ms/step - loss: 2.0255e-04 - val_loss: 0.0053\n",
            "Epoch 98/100\n",
            "34/34 [==============================] - 0s 7ms/step - loss: 2.2398e-04 - val_loss: 0.0021\n",
            "Epoch 99/100\n",
            "34/34 [==============================] - 0s 7ms/step - loss: 2.0140e-04 - val_loss: 0.0046\n",
            "Epoch 100/100\n",
            "34/34 [==============================] - 0s 8ms/step - loss: 2.4351e-04 - val_loss: 0.0051\n"
          ]
        }
      ]
    },
    {
      "cell_type": "code",
      "source": [
        "# 10. Dự báo dữ liệu test, val\n",
        "train_predict=model.predict(X_train)\n",
        "y_pred=model.predict(X_test)\n",
        "y_pred_val=model.predict(X_val)"
      ],
      "metadata": {
        "colab": {
          "base_uri": "https://localhost:8080/"
        },
        "id": "C6vJd2UZfF3r",
        "outputId": "877a56c7-1c59-440b-dc34-4a5fbcb929ef"
      },
      "execution_count": null,
      "outputs": [
        {
          "output_type": "stream",
          "name": "stdout",
          "text": [
            "34/34 [==============================] - 0s 2ms/step\n",
            "12/12 [==============================] - 0s 2ms/step\n",
            "12/12 [==============================] - 0s 2ms/step\n"
          ]
        }
      ]
    },
    {
      "cell_type": "code",
      "source": [
        "# 11. Chuẩn hóa dữ liệu y_pred, y_pred_val\n",
        "train_predict=scaler.inverse_transform(train_predict)\n",
        "y_pred=scaler.inverse_transform(y_pred)\n",
        "y_pred_val=scaler.inverse_transform(y_pred_val)"
      ],
      "metadata": {
        "id": "Kpf_ITe5fGgF"
      },
      "execution_count": null,
      "outputs": []
    },
    {
      "cell_type": "code",
      "source": [
        "#đánh giá mô hình\n",
        "def evaluation_model(model):\n",
        "  # evaluate trên tập test\n",
        "    loss_test = model.evaluate(X_test, ytest, verbose=0)\n",
        "    print(\"loss_test: \", loss_test)\n",
        "\n",
        "  # evaluate trên tập val\n",
        "    loss_val = model.evaluate(X_val, yval, verbose=0)\n",
        "    print(\"loss_val: \", loss_val)"
      ],
      "metadata": {
        "id": "z6zZoz1QEpDl"
      },
      "execution_count": null,
      "outputs": []
    },
    {
      "cell_type": "code",
      "source": [
        "\n",
        "# 12. Đánh giá độ chính xác thuật toán bằng MAE,RMSE, MAPE\n",
        "test_mae = mean_absolute_error(y_pred, ytest)\n",
        "test_rmse = np.sqrt(np.mean((y_pred - ytest)**2))\n",
        "test_mape = mean_absolute_percentage_error(y_pred, ytest)\n",
        "print('Testing MAE:', test_mae)\n",
        "print('Testing RMSE:', test_rmse)\n",
        "print('Testing MAPE:', test_mape)\n",
        "print('---------------------------')\n",
        "val_mae = mean_absolute_error(y_pred_val, yval)\n",
        "val_rmse = np.sqrt(np.mean((y_pred_val - yval)**2))\n",
        "val_mape = mean_absolute_percentage_error(y_pred_val, yval)\n",
        "print('Validation MAE:', val_mae)\n",
        "print('Validation RMSE:', val_rmse)\n",
        "print('Validation MAPE:', val_mape)"
      ],
      "metadata": {
        "colab": {
          "base_uri": "https://localhost:8080/"
        },
        "id": "B3F2r5QVfPhf",
        "outputId": "40549857-b5a7-44c2-c59c-dff8fb53932c"
      },
      "execution_count": null,
      "outputs": [
        {
          "output_type": "stream",
          "name": "stdout",
          "text": [
            "Testing MAE: 2848.8998900288734\n",
            "Testing RMSE: 2919.7014401591823\n",
            "Testing MAPE: 0.9997795815583631\n",
            "---------------------------\n",
            "Validation MAE: 1504.6794576225213\n",
            "Validation RMSE: 1522.4768785690737\n",
            "Validation MAPE: 0.9997937116292253\n"
          ]
        }
      ]
    },
    {
      "cell_type": "code",
      "source": [
        "evaluation_model(model)"
      ],
      "metadata": {
        "colab": {
          "base_uri": "https://localhost:8080/"
        },
        "id": "l6QXWoPaFc4c",
        "outputId": "80bc3f65-3602-4e41-8c2d-451ef09644f9"
      },
      "execution_count": null,
      "outputs": [
        {
          "output_type": "stream",
          "name": "stdout",
          "text": [
            "loss_test:  0.005120361223816872\n",
            "loss_val:  0.0003581681230571121\n"
          ]
        }
      ]
    },
    {
      "cell_type": "code",
      "source": [
        "# 13. Dự báo 30 ngày tiếp theo\n",
        "x_input = val_data[30:].reshape(1,-1)\n",
        "x_input.shape\n",
        "\n",
        "temp_input=list(x_input)\n",
        "temp_input=temp_input[0].tolist()\n",
        "\n",
        "from numpy import array\n",
        "\n",
        "lst_output=[]\n",
        "n_steps=10\n",
        "i=0\n",
        "while(i<30):\n",
        "\n",
        "    if(len(temp_input)>10):\n",
        "        #print(temp_input)\n",
        "        x_input=np.array(temp_input[-10:])\n",
        "        print(\"{} day input {}\".format(i,x_input))\n",
        "        #x_input=x_input.reshape(1,-1)\n",
        "        x_input = x_input.reshape((1, n_steps, 1))\n",
        "\n",
        "        #print(x_input)\n",
        "        yhat = model.predict(x_input, verbose=0)\n",
        "        print(\"{} day output {}\".format(i,yhat))\n",
        "        temp_input.extend(yhat[0].tolist())\n",
        "        temp_input=temp_input[1:]\n",
        "        #print(temp_input)\n",
        "        lst_output.extend(yhat.tolist())\n",
        "        i=i+1\n",
        "    else:\n",
        "        x_input = x_input.reshape((1, n_steps,1))\n",
        "        yhat = model.predict(x_input, verbose=0)\n",
        "        print(yhat[0])\n",
        "        temp_input.extend(yhat[0].tolist())\n",
        "        print(len(temp_input))\n",
        "        lst_output.extend(yhat.tolist())\n",
        "        i=i+1\n"
      ],
      "metadata": {
        "colab": {
          "base_uri": "https://localhost:8080/"
        },
        "id": "LAFyj9G8fcfk",
        "outputId": "fdfc6a89-de15-4224-b36d-179b38e8c052"
      },
      "execution_count": null,
      "outputs": [
        {
          "output_type": "stream",
          "name": "stdout",
          "text": [
            "0 day input [0.35304251 0.35073982 0.3500014  0.33127838 0.33445122 0.34527005\n",
            " 0.34749843 0.3460968  0.34970989 0.34793483]\n",
            "0 day output [[0.32986197]]\n",
            "1 day input [0.35073982 0.3500014  0.33127838 0.33445122 0.34527005 0.34749843\n",
            " 0.3460968  0.34970989 0.34793483 0.32986197]\n",
            "1 day output [[0.32794]]\n",
            "2 day input [0.3500014  0.33127838 0.33445122 0.34527005 0.34749843 0.3460968\n",
            " 0.34970989 0.34793483 0.32986197 0.32793999]\n",
            "2 day output [[0.32467085]]\n",
            "3 day input [0.33127838 0.33445122 0.34527005 0.34749843 0.3460968  0.34970989\n",
            " 0.34793483 0.32986197 0.32793999 0.32467085]\n",
            "3 day output [[0.32102528]]\n",
            "4 day input [0.33445122 0.34527005 0.34749843 0.3460968  0.34970989 0.34793483\n",
            " 0.32986197 0.32793999 0.32467085 0.32102528]\n",
            "4 day output [[0.31907567]]\n",
            "5 day input [0.34527005 0.34749843 0.3460968  0.34970989 0.34793483 0.32986197\n",
            " 0.32793999 0.32467085 0.32102528 0.31907567]\n",
            "5 day output [[0.3165194]]\n",
            "6 day input [0.34749843 0.3460968  0.34970989 0.34793483 0.32986197 0.32793999\n",
            " 0.32467085 0.32102528 0.31907567 0.31651941]\n",
            "6 day output [[0.30909875]]\n",
            "7 day input [0.3460968  0.34970989 0.34793483 0.32986197 0.32793999 0.32467085\n",
            " 0.32102528 0.31907567 0.31651941 0.30909875]\n",
            "7 day output [[0.30620167]]\n",
            "8 day input [0.34970989 0.34793483 0.32986197 0.32793999 0.32467085 0.32102528\n",
            " 0.31907567 0.31651941 0.30909875 0.30620167]\n",
            "8 day output [[0.30420515]]\n",
            "9 day input [0.34793483 0.32986197 0.32793999 0.32467085 0.32102528 0.31907567\n",
            " 0.31651941 0.30909875 0.30620167 0.30420515]\n",
            "9 day output [[0.30122307]]\n",
            "10 day input [0.32986197 0.32793999 0.32467085 0.32102528 0.31907567 0.31651941\n",
            " 0.30909875 0.30620167 0.30420515 0.30122307]\n",
            "10 day output [[0.29672915]]\n",
            "11 day input [0.32793999 0.32467085 0.32102528 0.31907567 0.31651941 0.30909875\n",
            " 0.30620167 0.30420515 0.30122307 0.29672915]\n",
            "11 day output [[0.2941688]]\n",
            "12 day input [0.32467085 0.32102528 0.31907567 0.31651941 0.30909875 0.30620167\n",
            " 0.30420515 0.30122307 0.29672915 0.2941688 ]\n",
            "12 day output [[0.28966948]]\n",
            "13 day input [0.32102528 0.31907567 0.31651941 0.30909875 0.30620167 0.30420515\n",
            " 0.30122307 0.29672915 0.2941688  0.28966948]\n",
            "13 day output [[0.28643975]]\n",
            "14 day input [0.31907567 0.31651941 0.30909875 0.30620167 0.30420515 0.30122307\n",
            " 0.29672915 0.2941688  0.28966948 0.28643975]\n",
            "14 day output [[0.2844426]]\n",
            "15 day input [0.31651941 0.30909875 0.30620167 0.30420515 0.30122307 0.29672915\n",
            " 0.2941688  0.28966948 0.28643975 0.2844426 ]\n",
            "15 day output [[0.28214014]]\n",
            "16 day input [0.30909875 0.30620167 0.30420515 0.30122307 0.29672915 0.2941688\n",
            " 0.28966948 0.28643975 0.2844426  0.28214014]\n",
            "16 day output [[0.27841786]]\n",
            "17 day input [0.30620167 0.30420515 0.30122307 0.29672915 0.2941688  0.28966948\n",
            " 0.28643975 0.2844426  0.28214014 0.27841786]\n",
            "17 day output [[0.2754317]]\n",
            "18 day input [0.30420515 0.30122307 0.29672915 0.2941688  0.28966948 0.28643975\n",
            " 0.2844426  0.28214014 0.27841786 0.27543169]\n",
            "18 day output [[0.27210715]]\n",
            "19 day input [0.30122307 0.29672915 0.2941688  0.28966948 0.28643975 0.2844426\n",
            " 0.28214014 0.27841786 0.27543169 0.27210715]\n",
            "19 day output [[0.2689788]]\n",
            "20 day input [0.29672915 0.2941688  0.28966948 0.28643975 0.2844426  0.28214014\n",
            " 0.27841786 0.27543169 0.27210715 0.2689788 ]\n",
            "20 day output [[0.26687452]]\n",
            "21 day input [0.2941688  0.28966948 0.28643975 0.2844426  0.28214014 0.27841786\n",
            " 0.27543169 0.27210715 0.2689788  0.26687452]\n",
            "21 day output [[0.265016]]\n",
            "22 day input [0.28966948 0.28643975 0.2844426  0.28214014 0.27841786 0.27543169\n",
            " 0.27210715 0.2689788  0.26687452 0.26501599]\n",
            "22 day output [[0.2623357]]\n",
            "23 day input [0.28643975 0.2844426  0.28214014 0.27841786 0.27543169 0.27210715\n",
            " 0.2689788  0.26687452 0.26501599 0.26233569]\n",
            "23 day output [[0.25946498]]\n",
            "24 day input [0.2844426  0.28214014 0.27841786 0.27543169 0.27210715 0.2689788\n",
            " 0.26687452 0.26501599 0.26233569 0.25946498]\n",
            "24 day output [[0.25670514]]\n",
            "25 day input [0.28214014 0.27841786 0.27543169 0.27210715 0.2689788  0.26687452\n",
            " 0.26501599 0.26233569 0.25946498 0.25670514]\n",
            "25 day output [[0.25386086]]\n",
            "26 day input [0.27841786 0.27543169 0.27210715 0.2689788  0.26687452 0.26501599\n",
            " 0.26233569 0.25946498 0.25670514 0.25386086]\n",
            "26 day output [[0.251483]]\n",
            "27 day input [0.27543169 0.27210715 0.2689788  0.26687452 0.26501599 0.26233569\n",
            " 0.25946498 0.25670514 0.25386086 0.25148299]\n",
            "27 day output [[0.24970205]]\n",
            "28 day input [0.27210715 0.2689788  0.26687452 0.26501599 0.26233569 0.25946498\n",
            " 0.25670514 0.25386086 0.25148299 0.24970205]\n",
            "28 day output [[0.24753849]]\n",
            "29 day input [0.2689788  0.26687452 0.26501599 0.26233569 0.25946498 0.25670514\n",
            " 0.25386086 0.25148299 0.24970205 0.24753849]\n",
            "29 day output [[0.2450817]]\n"
          ]
        }
      ]
    },
    {
      "cell_type": "code",
      "source": [
        "#đưa giá trị về đơn vị ban đầu trước khi đc chuẩn hóa\n",
        "y_future = scaler.inverse_transform(lst_output)\n",
        "y_future"
      ],
      "metadata": {
        "colab": {
          "base_uri": "https://localhost:8080/"
        },
        "id": "V983ld9Gfgh4",
        "outputId": "b81acfdc-e0c1-4f62-fed9-613d206b3926"
      },
      "execution_count": null,
      "outputs": [
        {
          "output_type": "execute_result",
          "data": {
            "text/plain": [
              "array([[1643.82281975],\n",
              "       [1634.73611542],\n",
              "       [1619.28036278],\n",
              "       [1602.04491742],\n",
              "       [1592.82759991],\n",
              "       [1580.74214649],\n",
              "       [1545.65890961],\n",
              "       [1531.96213754],\n",
              "       [1522.52304533],\n",
              "       [1508.42442989],\n",
              "       [1487.17815938],\n",
              "       [1475.07340282],\n",
              "       [1453.80162963],\n",
              "       [1438.53214519],\n",
              "       [1429.0900941 ],\n",
              "       [1418.20453483],\n",
              "       [1400.60641598],\n",
              "       [1386.48849741],\n",
              "       [1370.77081389],\n",
              "       [1355.98066716],\n",
              "       [1346.0320849 ],\n",
              "       [1337.24535411],\n",
              "       [1324.5734799 ],\n",
              "       [1311.00140327],\n",
              "       [1297.95347016],\n",
              "       [1284.50637076],\n",
              "       [1273.26433754],\n",
              "       [1264.84443678],\n",
              "       [1254.6156068 ],\n",
              "       [1243.00040312]])"
            ]
          },
          "metadata": {},
          "execution_count": 49
        }
      ]
    },
    {
      "cell_type": "code",
      "source": [
        "# 14.Vẽ hình\n",
        "import matplotlib.pyplot as plt\n",
        "plt.figure(figsize=(12, 8))\n",
        "\n",
        "train_data_index = pd.RangeIndex(start=0, stop=train_size, step=1)\n",
        "plt.plot(scaler.inverse_transform(train_data))\n",
        "\n",
        "test_data_index = pd.RangeIndex(start=train_size, stop=train_size+test_size, step=1)\n",
        "plt.plot(test_data_index,scaler.inverse_transform(test_data))\n",
        "test_data_index = pd.RangeIndex(start=train_size+11, stop=train_size+test_size, step=1)\n",
        "plt.plot(test_data_index,(y_pred[:-1]))\n",
        "\n",
        "val_data_index = pd.RangeIndex(start=train_size+test_size, stop=train_size+test_size+val_size, step=1)\n",
        "plt.plot(val_data_index,scaler.inverse_transform(val_data))\n",
        "val_data_index = pd.RangeIndex(start=train_size+test_size+11, stop=train_size+test_size+val_size, step=1)\n",
        "plt.plot(val_data_index,y_pred_val[:-1])\n",
        "\n",
        "prediect_data_index = pd.RangeIndex(start=len(df1)-1, stop=len(df1)+29, step=1)\n",
        "plt.plot(prediect_data_index,scaler.inverse_transform(lst_output))\n",
        "plt.legend(['Train','Test','Predict','Validate','ValidatePred','Predict30days'])\n",
        "plt.show()"
      ],
      "metadata": {
        "colab": {
          "base_uri": "https://localhost:8080/",
          "height": 676
        },
        "id": "nl413nnrfkyg",
        "outputId": "0bf6351c-0031-470d-d046-6584f6309bd5"
      },
      "execution_count": null,
      "outputs": [
        {
          "output_type": "display_data",
          "data": {
            "text/plain": [
              "<Figure size 1200x800 with 1 Axes>"
            ],
            "image/png": "[encoded data removed]"
          },
          "metadata": {}
        }
      ]
    },
    {
      "cell_type": "markdown",
      "source": [
        "#5 : 3 : 2"
      ],
      "metadata": {
        "id": "UGpFapp3Rtlb"
      }
    },
    {
      "cell_type": "code",
      "source": [
        "df = pd.read_csv('ETH-USD.csv')\n",
        "df1=df.reset_index()['Close']"
      ],
      "metadata": {
        "id": "3DuHtc0iHSm6"
      },
      "execution_count": null,
      "outputs": []
    },
    {
      "cell_type": "code",
      "source": [
        " # 3. Scaler data\n",
        "scaler=MinMaxScaler(feature_range=(0,1))\n",
        "df1=scaler.fit_transform(np.array(df1).reshape(-1,1))"
      ],
      "metadata": {
        "id": "WUhCKsW7Hd0S"
      },
      "execution_count": null,
      "outputs": []
    },
    {
      "cell_type": "code",
      "source": [
        "#4. Chia train test 5 : 3 : 2\n",
        "train_size = int(0.5 * len(df))\n",
        "test_size = int(0.3 * len(df))\n",
        "val_size = len(df1) - train_size - test_size\n",
        "\n",
        "train_data = df1[:train_size]\n",
        "test_data = df1[train_size:train_size+test_size]\n",
        "val_data = df1[train_size+test_size:]"
      ],
      "metadata": {
        "id": "D9g3UGy-Hhr6"
      },
      "execution_count": null,
      "outputs": []
    },
    {
      "cell_type": "code",
      "source": [
        "    # 5. Hàm Create Dataset\n",
        "# convert an array of values into a dataset matrix\n",
        "def create_dataset(dataset, time_step=1):\n",
        "\tdataX, dataY = [], []\n",
        "\tfor i in range(len(dataset)-time_step):\n",
        "\n",
        "\t\tdataX.append(dataset[i:i+time_step])\n",
        "\t\tdataY.append(dataset[i + time_step])\n",
        "\treturn np.array(dataX), np.array(dataY)\n",
        "#6 Tạo input dataset cho train, val, test\n",
        "\n",
        "time_step = 10\n",
        "\n",
        "X_train, y_train = create_dataset(train_data, time_step)\n",
        "X_val, yval = create_dataset(val_data, time_step)\n",
        "X_test, ytest = create_dataset(test_data, time_step)"
      ],
      "metadata": {
        "id": "nqygbzx9Hk7I"
      },
      "execution_count": null,
      "outputs": []
    },
    {
      "cell_type": "code",
      "source": [
        "# 7. Reshape input to be [samples, time steps, features] which is required for FCN\n",
        "X_train =X_train.reshape(X_train.shape[0],X_train.shape[1] , 1)\n",
        "X_test = X_test.reshape(X_test.shape[0],X_test.shape[1] , 1)\n",
        "X_val = X_val.reshape(X_val.shape[0],X_val.shape[1] , 1)"
      ],
      "metadata": {
        "id": "iGyHF1ePHsyX"
      },
      "execution_count": null,
      "outputs": []
    },
    {
      "cell_type": "code",
      "source": [
        "# define FCN model\n",
        "def fcn():\n",
        "    model = Sequential()\n",
        "    model.add(Conv1D(filters=32, kernel_size=3, activation='relu', input_shape=(10, 1)))\n",
        "    model.add(Conv1D(filters=64, kernel_size=3, activation='relu'))\n",
        "    model.add(GlobalMaxPooling1D())\n",
        "    model.add(Dense(64, activation='relu'))\n",
        "    model.add(Dense(1))\n",
        "    return model"
      ],
      "metadata": {
        "id": "tcmi-penHwX5"
      },
      "execution_count": null,
      "outputs": []
    },
    {
      "cell_type": "code",
      "source": [
        "model= fcn()\n",
        "model.summary()"
      ],
      "metadata": {
        "colab": {
          "base_uri": "https://localhost:8080/"
        },
        "id": "c3xxBICCHyEm",
        "outputId": "ddbf1179-7d35-4926-ec44-bdceec23c616"
      },
      "execution_count": null,
      "outputs": [
        {
          "output_type": "stream",
          "name": "stdout",
          "text": [
            "Model: \"sequential_3\"\n",
            "_________________________________________________________________\n",
            " Layer (type)                Output Shape              Param #   \n",
            "=================================================================\n",
            " conv1d_6 (Conv1D)           (None, 8, 32)             128       \n",
            "                                                                 \n",
            " conv1d_7 (Conv1D)           (None, 6, 64)             6208      \n",
            "                                                                 \n",
            " global_max_pooling1d_3 (Glo  (None, 64)               0         \n",
            " balMaxPooling1D)                                                \n",
            "                                                                 \n",
            " dense_6 (Dense)             (None, 64)                4160      \n",
            "                                                                 \n",
            " dense_7 (Dense)             (None, 1)                 65        \n",
            "                                                                 \n",
            "=================================================================\n",
            "Total params: 10,561\n",
            "Trainable params: 10,561\n",
            "Non-trainable params: 0\n",
            "_________________________________________________________________\n"
          ]
        }
      ]
    },
    {
      "cell_type": "code",
      "source": [
        "model.compile(optimizer='adam', loss='mean_squared_error')\n",
        "history = model.fit(X_train, y_train, validation_data=(X_test, ytest), epochs=100, batch_size=32)"
      ],
      "metadata": {
        "colab": {
          "base_uri": "https://localhost:8080/"
        },
        "id": "KKCQduaVLZwk",
        "outputId": "0eba1730-8266-4ecf-fbcf-5f683710e3cb"
      },
      "execution_count": null,
      "outputs": [
        {
          "output_type": "stream",
          "name": "stdout",
          "text": [
            "Epoch 1/100\n",
            "29/29 [==============================] - 1s 13ms/step - loss: 2.5991e-04 - val_loss: 0.0105\n",
            "Epoch 2/100\n",
            "29/29 [==============================] - 0s 7ms/step - loss: 3.3741e-05 - val_loss: 0.0116\n",
            "Epoch 3/100\n",
            "29/29 [==============================] - 0s 7ms/step - loss: 3.2071e-05 - val_loss: 0.0084\n",
            "Epoch 4/100\n",
            "29/29 [==============================] - 0s 7ms/step - loss: 2.9792e-05 - val_loss: 0.0081\n",
            "Epoch 5/100\n",
            "29/29 [==============================] - 0s 6ms/step - loss: 3.1037e-05 - val_loss: 0.0095\n",
            "Epoch 6/100\n",
            "29/29 [==============================] - 0s 6ms/step - loss: 3.0131e-05 - val_loss: 0.0076\n",
            "Epoch 7/100\n",
            "29/29 [==============================] - 0s 6ms/step - loss: 3.3180e-05 - val_loss: 0.0083\n",
            "Epoch 8/100\n",
            "29/29 [==============================] - 0s 7ms/step - loss: 3.0000e-05 - val_loss: 0.0089\n",
            "Epoch 9/100\n",
            "29/29 [==============================] - 0s 8ms/step - loss: 3.0900e-05 - val_loss: 0.0091\n",
            "Epoch 10/100\n",
            "29/29 [==============================] - 0s 7ms/step - loss: 2.7811e-05 - val_loss: 0.0115\n",
            "Epoch 11/100\n",
            "29/29 [==============================] - 0s 6ms/step - loss: 2.5868e-05 - val_loss: 0.0111\n",
            "Epoch 12/100\n",
            "29/29 [==============================] - 0s 5ms/step - loss: 2.7527e-05 - val_loss: 0.0120\n",
            "Epoch 13/100\n",
            "29/29 [==============================] - 0s 7ms/step - loss: 2.8167e-05 - val_loss: 0.0095\n",
            "Epoch 14/100\n",
            "29/29 [==============================] - 0s 6ms/step - loss: 2.7343e-05 - val_loss: 0.0098\n",
            "Epoch 15/100\n",
            "29/29 [==============================] - 0s 5ms/step - loss: 2.4210e-05 - val_loss: 0.0108\n",
            "Epoch 16/100\n",
            "29/29 [==============================] - 0s 5ms/step - loss: 2.6606e-05 - val_loss: 0.0113\n",
            "Epoch 17/100\n",
            "29/29 [==============================] - 0s 7ms/step - loss: 2.4488e-05 - val_loss: 0.0113\n",
            "Epoch 18/100\n",
            "29/29 [==============================] - 0s 5ms/step - loss: 2.5756e-05 - val_loss: 0.0127\n",
            "Epoch 19/100\n",
            "29/29 [==============================] - 0s 6ms/step - loss: 2.4505e-05 - val_loss: 0.0135\n",
            "Epoch 20/100\n",
            "29/29 [==============================] - 0s 6ms/step - loss: 2.4511e-05 - val_loss: 0.0111\n",
            "Epoch 21/100\n",
            "29/29 [==============================] - 0s 7ms/step - loss: 2.2916e-05 - val_loss: 0.0132\n",
            "Epoch 22/100\n",
            "29/29 [==============================] - 0s 5ms/step - loss: 2.6352e-05 - val_loss: 0.0182\n",
            "Epoch 23/100\n",
            "29/29 [==============================] - 0s 7ms/step - loss: 2.1406e-05 - val_loss: 0.0115\n",
            "Epoch 24/100\n",
            "29/29 [==============================] - 0s 6ms/step - loss: 2.1422e-05 - val_loss: 0.0149\n",
            "Epoch 25/100\n",
            "29/29 [==============================] - 0s 6ms/step - loss: 2.4418e-05 - val_loss: 0.0177\n",
            "Epoch 26/100\n",
            "29/29 [==============================] - 0s 6ms/step - loss: 2.1888e-05 - val_loss: 0.0143\n",
            "Epoch 27/100\n",
            "29/29 [==============================] - 0s 6ms/step - loss: 2.0863e-05 - val_loss: 0.0129\n",
            "Epoch 28/100\n",
            "29/29 [==============================] - 0s 7ms/step - loss: 2.1548e-05 - val_loss: 0.0157\n",
            "Epoch 29/100\n",
            "29/29 [==============================] - 0s 7ms/step - loss: 2.2790e-05 - val_loss: 0.0203\n",
            "Epoch 30/100\n",
            "29/29 [==============================] - 0s 7ms/step - loss: 2.1506e-05 - val_loss: 0.0171\n",
            "Epoch 31/100\n",
            "29/29 [==============================] - 0s 7ms/step - loss: 2.2810e-05 - val_loss: 0.0177\n",
            "Epoch 32/100\n",
            "29/29 [==============================] - 0s 8ms/step - loss: 1.9085e-05 - val_loss: 0.0205\n",
            "Epoch 33/100\n",
            "29/29 [==============================] - 0s 6ms/step - loss: 2.1611e-05 - val_loss: 0.0246\n",
            "Epoch 34/100\n",
            "29/29 [==============================] - 0s 7ms/step - loss: 1.8571e-05 - val_loss: 0.0212\n",
            "Epoch 35/100\n",
            "29/29 [==============================] - 0s 12ms/step - loss: 2.0571e-05 - val_loss: 0.0220\n",
            "Epoch 36/100\n",
            "29/29 [==============================] - 0s 9ms/step - loss: 2.4755e-05 - val_loss: 0.0213\n",
            "Epoch 37/100\n",
            "29/29 [==============================] - 0s 9ms/step - loss: 1.7320e-05 - val_loss: 0.0194\n",
            "Epoch 38/100\n",
            "29/29 [==============================] - 0s 8ms/step - loss: 1.9530e-05 - val_loss: 0.0228\n",
            "Epoch 39/100\n",
            "29/29 [==============================] - 0s 10ms/step - loss: 2.8998e-05 - val_loss: 0.0273\n",
            "Epoch 40/100\n",
            "29/29 [==============================] - 0s 9ms/step - loss: 1.7794e-05 - val_loss: 0.0235\n",
            "Epoch 41/100\n",
            "29/29 [==============================] - 0s 8ms/step - loss: 1.8640e-05 - val_loss: 0.0220\n",
            "Epoch 42/100\n",
            "29/29 [==============================] - 0s 8ms/step - loss: 1.7816e-05 - val_loss: 0.0235\n",
            "Epoch 43/100\n",
            "29/29 [==============================] - 0s 9ms/step - loss: 1.6948e-05 - val_loss: 0.0204\n",
            "Epoch 44/100\n",
            "29/29 [==============================] - 0s 9ms/step - loss: 1.7192e-05 - val_loss: 0.0271\n",
            "Epoch 45/100\n",
            "29/29 [==============================] - 0s 6ms/step - loss: 2.1674e-05 - val_loss: 0.0293\n",
            "Epoch 46/100\n",
            "29/29 [==============================] - 0s 5ms/step - loss: 1.6039e-05 - val_loss: 0.0239\n",
            "Epoch 47/100\n",
            "29/29 [==============================] - 0s 5ms/step - loss: 1.6278e-05 - val_loss: 0.0319\n",
            "Epoch 48/100\n",
            "29/29 [==============================] - 0s 7ms/step - loss: 1.5837e-05 - val_loss: 0.0265\n",
            "Epoch 49/100\n",
            "29/29 [==============================] - 0s 7ms/step - loss: 1.6094e-05 - val_loss: 0.0200\n",
            "Epoch 50/100\n",
            "29/29 [==============================] - 0s 5ms/step - loss: 1.5380e-05 - val_loss: 0.0231\n",
            "Epoch 51/100\n",
            "29/29 [==============================] - 0s 6ms/step - loss: 1.8342e-05 - val_loss: 0.0293\n",
            "Epoch 52/100\n",
            "29/29 [==============================] - 0s 6ms/step - loss: 3.9225e-05 - val_loss: 0.0329\n",
            "Epoch 53/100\n",
            "29/29 [==============================] - 0s 6ms/step - loss: 3.6562e-05 - val_loss: 0.0190\n",
            "Epoch 54/100\n",
            "29/29 [==============================] - 0s 8ms/step - loss: 1.7987e-05 - val_loss: 0.0187\n",
            "Epoch 55/100\n",
            "29/29 [==============================] - 0s 7ms/step - loss: 1.6856e-05 - val_loss: 0.0190\n",
            "Epoch 56/100\n",
            "29/29 [==============================] - 0s 5ms/step - loss: 1.4108e-05 - val_loss: 0.0243\n",
            "Epoch 57/100\n",
            "29/29 [==============================] - 0s 7ms/step - loss: 1.4432e-05 - val_loss: 0.0228\n",
            "Epoch 58/100\n",
            "29/29 [==============================] - 0s 7ms/step - loss: 1.5352e-05 - val_loss: 0.0186\n",
            "Epoch 59/100\n",
            "29/29 [==============================] - 0s 6ms/step - loss: 1.6005e-05 - val_loss: 0.0219\n",
            "Epoch 60/100\n",
            "29/29 [==============================] - 0s 6ms/step - loss: 1.9276e-05 - val_loss: 0.0285\n",
            "Epoch 61/100\n",
            "29/29 [==============================] - 0s 6ms/step - loss: 1.5783e-05 - val_loss: 0.0224\n",
            "Epoch 62/100\n",
            "29/29 [==============================] - 0s 5ms/step - loss: 1.4596e-05 - val_loss: 0.0241\n",
            "Epoch 63/100\n",
            "29/29 [==============================] - 0s 6ms/step - loss: 1.7403e-05 - val_loss: 0.0281\n",
            "Epoch 64/100\n",
            "29/29 [==============================] - 0s 6ms/step - loss: 1.3649e-05 - val_loss: 0.0260\n",
            "Epoch 65/100\n",
            "29/29 [==============================] - 0s 5ms/step - loss: 1.2800e-05 - val_loss: 0.0242\n",
            "Epoch 66/100\n",
            "29/29 [==============================] - 0s 6ms/step - loss: 1.3417e-05 - val_loss: 0.0262\n",
            "Epoch 67/100\n",
            "29/29 [==============================] - 0s 6ms/step - loss: 1.2916e-05 - val_loss: 0.0240\n",
            "Epoch 68/100\n",
            "29/29 [==============================] - 0s 5ms/step - loss: 1.3189e-05 - val_loss: 0.0251\n",
            "Epoch 69/100\n",
            "29/29 [==============================] - 0s 5ms/step - loss: 1.2618e-05 - val_loss: 0.0221\n",
            "Epoch 70/100\n",
            "29/29 [==============================] - 0s 7ms/step - loss: 1.2761e-05 - val_loss: 0.0230\n",
            "Epoch 71/100\n",
            "29/29 [==============================] - 0s 6ms/step - loss: 1.4670e-05 - val_loss: 0.0401\n",
            "Epoch 72/100\n",
            "29/29 [==============================] - 0s 6ms/step - loss: 2.5226e-05 - val_loss: 0.0220\n",
            "Epoch 73/100\n",
            "29/29 [==============================] - 0s 7ms/step - loss: 1.7340e-05 - val_loss: 0.0212\n",
            "Epoch 74/100\n",
            "29/29 [==============================] - 0s 6ms/step - loss: 1.5252e-05 - val_loss: 0.0251\n",
            "Epoch 75/100\n",
            "29/29 [==============================] - 0s 6ms/step - loss: 1.3784e-05 - val_loss: 0.0185\n",
            "Epoch 76/100\n",
            "29/29 [==============================] - 0s 6ms/step - loss: 1.4663e-05 - val_loss: 0.0172\n",
            "Epoch 77/100\n",
            "29/29 [==============================] - 0s 6ms/step - loss: 1.8045e-05 - val_loss: 0.0154\n",
            "Epoch 78/100\n",
            "29/29 [==============================] - 0s 5ms/step - loss: 1.8056e-05 - val_loss: 0.0180\n",
            "Epoch 79/100\n",
            "29/29 [==============================] - 0s 6ms/step - loss: 1.5035e-05 - val_loss: 0.0174\n",
            "Epoch 80/100\n",
            "29/29 [==============================] - 0s 6ms/step - loss: 1.1758e-05 - val_loss: 0.0161\n",
            "Epoch 81/100\n",
            "29/29 [==============================] - 0s 6ms/step - loss: 1.2288e-05 - val_loss: 0.0240\n",
            "Epoch 82/100\n",
            "29/29 [==============================] - 0s 7ms/step - loss: 1.3518e-05 - val_loss: 0.0295\n",
            "Epoch 83/100\n",
            "29/29 [==============================] - 0s 6ms/step - loss: 1.5624e-05 - val_loss: 0.0216\n",
            "Epoch 84/100\n",
            "29/29 [==============================] - 0s 5ms/step - loss: 1.4343e-05 - val_loss: 0.0256\n",
            "Epoch 85/100\n",
            "29/29 [==============================] - 0s 6ms/step - loss: 1.7816e-05 - val_loss: 0.0165\n",
            "Epoch 86/100\n",
            "29/29 [==============================] - 0s 6ms/step - loss: 1.3517e-05 - val_loss: 0.0224\n",
            "Epoch 87/100\n",
            "29/29 [==============================] - 0s 8ms/step - loss: 1.4524e-05 - val_loss: 0.0135\n",
            "Epoch 88/100\n",
            "29/29 [==============================] - 0s 6ms/step - loss: 1.2481e-05 - val_loss: 0.0178\n",
            "Epoch 89/100\n",
            "29/29 [==============================] - 0s 6ms/step - loss: 1.3960e-05 - val_loss: 0.0216\n",
            "Epoch 90/100\n",
            "29/29 [==============================] - 0s 5ms/step - loss: 1.1256e-05 - val_loss: 0.0208\n",
            "Epoch 91/100\n",
            "29/29 [==============================] - 0s 6ms/step - loss: 1.5541e-05 - val_loss: 0.0230\n",
            "Epoch 92/100\n",
            "29/29 [==============================] - 0s 6ms/step - loss: 1.4012e-05 - val_loss: 0.0198\n",
            "Epoch 93/100\n",
            "29/29 [==============================] - 0s 6ms/step - loss: 1.1888e-05 - val_loss: 0.0220\n",
            "Epoch 94/100\n",
            "29/29 [==============================] - 0s 6ms/step - loss: 1.0893e-05 - val_loss: 0.0204\n",
            "Epoch 95/100\n",
            "29/29 [==============================] - 0s 6ms/step - loss: 1.5291e-05 - val_loss: 0.0231\n",
            "Epoch 96/100\n",
            "29/29 [==============================] - 0s 5ms/step - loss: 1.4441e-05 - val_loss: 0.0220\n",
            "Epoch 97/100\n",
            "29/29 [==============================] - 0s 6ms/step - loss: 1.1256e-05 - val_loss: 0.0252\n",
            "Epoch 98/100\n",
            "29/29 [==============================] - 0s 6ms/step - loss: 1.1710e-05 - val_loss: 0.0193\n",
            "Epoch 99/100\n",
            "29/29 [==============================] - 0s 6ms/step - loss: 1.0967e-05 - val_loss: 0.0199\n",
            "Epoch 100/100\n",
            "29/29 [==============================] - 0s 8ms/step - loss: 1.2284e-05 - val_loss: 0.0199\n"
          ]
        }
      ]
    },
    {
      "cell_type": "code",
      "source": [
        "# 10. Dự báo dữ liệu test, val\n",
        "train_predict=model.predict(X_train)\n",
        "y_pred=model.predict(X_test)\n",
        "y_pred_val=model.predict(X_val)"
      ],
      "metadata": {
        "colab": {
          "base_uri": "https://localhost:8080/"
        },
        "id": "b5nURa8qLanw",
        "outputId": "bf13a336-fede-4105-e879-7e93da2fa894"
      },
      "execution_count": null,
      "outputs": [
        {
          "output_type": "stream",
          "name": "stdout",
          "text": [
            "29/29 [==============================] - 0s 2ms/step\n",
            "17/17 [==============================] - 0s 2ms/step\n",
            "12/12 [==============================] - 0s 2ms/step\n"
          ]
        }
      ]
    },
    {
      "cell_type": "code",
      "source": [
        "# 11. Chuẩn hóa dữ liệu y_pred, y_pred_val\n",
        "train_predict=scaler.inverse_transform(train_predict)\n",
        "y_pred=scaler.inverse_transform(y_pred)\n",
        "y_pred_val=scaler.inverse_transform(y_pred_val)"
      ],
      "metadata": {
        "id": "lnOR6hEJLh-k"
      },
      "execution_count": null,
      "outputs": []
    },
    {
      "cell_type": "code",
      "source": [
        "#đánh giá mô hình\n",
        "def evaluation_model(model):\n",
        "  # evaluate trên tập test\n",
        "    loss_test = model.evaluate(X_test, ytest, verbose=0)\n",
        "    print(\"loss_test: \", loss_test)\n",
        "\n",
        "  # evaluate trên tập val\n",
        "    loss_val = model.evaluate(X_val, yval, verbose=0)\n",
        "    print(\"loss_val: \", loss_val)"
      ],
      "metadata": {
        "id": "qlAIh6I_LnZX"
      },
      "execution_count": null,
      "outputs": []
    },
    {
      "cell_type": "code",
      "source": [
        "\n",
        "# 12. Đánh giá độ chính xác thuật toán bằng MAE,RMSE, MAPE\n",
        "test_mae = mean_absolute_error(y_pred, ytest)\n",
        "test_rmse = np.sqrt(np.mean((y_pred - ytest)**2))\n",
        "test_mape = mean_absolute_percentage_error(y_pred, ytest)\n",
        "print('Testing MAE:', test_mae)\n",
        "print('Testing RMSE:', test_rmse)\n",
        "print('Testing MAPE:', test_mape)\n",
        "print('---------------------------')\n",
        "val_mae = mean_absolute_error(y_pred_val, yval)\n",
        "val_rmse = np.sqrt(np.mean((y_pred_val - yval)**2))\n",
        "val_mape = mean_absolute_percentage_error(y_pred_val, yval)\n",
        "print('Validation MAE:', val_mae)\n",
        "print('Validation RMSE:', val_rmse)\n",
        "print('Validation MAPE:', val_mape)\n",
        "\n"
      ],
      "metadata": {
        "colab": {
          "base_uri": "https://localhost:8080/"
        },
        "id": "kkjYEfJTLrkG",
        "outputId": "6119415a-55b6-485b-e832-70088fb9ecbf"
      },
      "execution_count": null,
      "outputs": [
        {
          "output_type": "stream",
          "name": "stdout",
          "text": [
            "Testing MAE: 2149.7953776129707\n",
            "Testing RMSE: 2244.1811075870573\n",
            "Testing MAPE: 0.9997432403797825\n",
            "---------------------------\n",
            "Validation MAE: 1292.1938732349026\n",
            "Validation RMSE: 1304.3544365531939\n",
            "Validation MAPE: 0.9997602958834554\n"
          ]
        }
      ]
    },
    {
      "cell_type": "code",
      "source": [
        "evaluation_model(model)"
      ],
      "metadata": {
        "colab": {
          "base_uri": "https://localhost:8080/"
        },
        "id": "87QOLyQzLvXi",
        "outputId": "f7a0ae52-f4de-45d7-fc0c-9f16a0e134da"
      },
      "execution_count": null,
      "outputs": [
        {
          "output_type": "stream",
          "name": "stdout",
          "text": [
            "loss_test:  0.019850855693221092\n",
            "loss_val:  0.003526414278894663\n"
          ]
        }
      ]
    },
    {
      "cell_type": "code",
      "source": [
        "# 13. Dự báo 30 ngày tiếp theo\n",
        "x_input = val_data[30:].reshape(1,-1)\n",
        "x_input.shape\n",
        "\n",
        "temp_input=list(x_input)\n",
        "temp_input=temp_input[0].tolist()\n",
        "\n",
        "from numpy import array\n",
        "\n",
        "lst_output=[]\n",
        "n_steps=10\n",
        "i=0\n",
        "while(i<30):\n",
        "\n",
        "    if(len(temp_input)>10):\n",
        "        #print(temp_input)\n",
        "        x_input=np.array(temp_input[-10:])\n",
        "        print(\"{} day input {}\".format(i,x_input))\n",
        "        #x_input=x_input.reshape(1,-1)\n",
        "        x_input = x_input.reshape((1, n_steps, 1))\n",
        "\n",
        "        #print(x_input)\n",
        "        yhat = model.predict(x_input, verbose=0)\n",
        "        print(\"{} day output {}\".format(i,yhat))\n",
        "        temp_input.extend(yhat[0].tolist())\n",
        "        temp_input=temp_input[1:]\n",
        "        #print(temp_input)\n",
        "        lst_output.extend(yhat.tolist())\n",
        "        i=i+1\n",
        "    else:\n",
        "        x_input = x_input.reshape((1, n_steps,1))\n",
        "        yhat = model.predict(x_input, verbose=0)\n",
        "        print(yhat[0])\n",
        "        temp_input.extend(yhat[0].tolist())\n",
        "        print(len(temp_input))\n",
        "        lst_output.extend(yhat.tolist())\n",
        "        i=i+1\n"
      ],
      "metadata": {
        "colab": {
          "base_uri": "https://localhost:8080/"
        },
        "id": "d1MgmYZvLzLE",
        "outputId": "9fdcd7a6-f769-4404-8429-1cc88cb37562"
      },
      "execution_count": null,
      "outputs": [
        {
          "output_type": "stream",
          "name": "stdout",
          "text": [
            "0 day input [0.35304251 0.35073982 0.3500014  0.33127838 0.33445122 0.34527005\n",
            " 0.34749843 0.3460968  0.34970989 0.34793483]\n",
            "0 day output [[0.27604416]]\n",
            "1 day input [0.35073982 0.3500014  0.33127838 0.33445122 0.34527005 0.34749843\n",
            " 0.3460968  0.34970989 0.34793483 0.27604416]\n",
            "1 day output [[0.25128606]]\n",
            "2 day input [0.3500014  0.33127838 0.33445122 0.34527005 0.34749843 0.3460968\n",
            " 0.34970989 0.34793483 0.27604416 0.25128606]\n",
            "2 day output [[0.2501494]]\n",
            "3 day input [0.33127838 0.33445122 0.34527005 0.34749843 0.3460968  0.34970989\n",
            " 0.34793483 0.27604416 0.25128606 0.2501494 ]\n",
            "3 day output [[0.2491073]]\n",
            "4 day input [0.33445122 0.34527005 0.34749843 0.3460968  0.34970989 0.34793483\n",
            " 0.27604416 0.25128606 0.2501494  0.2491073 ]\n",
            "4 day output [[0.2483951]]\n",
            "5 day input [0.34527005 0.34749843 0.3460968  0.34970989 0.34793483 0.27604416\n",
            " 0.25128606 0.2501494  0.2491073  0.2483951 ]\n",
            "5 day output [[0.24733153]]\n",
            "6 day input [0.34749843 0.3460968  0.34970989 0.34793483 0.27604416 0.25128606\n",
            " 0.2501494  0.2491073  0.2483951  0.24733153]\n",
            "6 day output [[0.20414887]]\n",
            "7 day input [0.3460968  0.34970989 0.34793483 0.27604416 0.25128606 0.2501494\n",
            " 0.2491073  0.2483951  0.24733153 0.20414887]\n",
            "7 day output [[0.19720833]]\n",
            "8 day input [0.34970989 0.34793483 0.27604416 0.25128606 0.2501494  0.2491073\n",
            " 0.2483951  0.24733153 0.20414887 0.19720833]\n",
            "8 day output [[0.20568933]]\n",
            "9 day input [0.34793483 0.27604416 0.25128606 0.2501494  0.2491073  0.2483951\n",
            " 0.24733153 0.20414887 0.19720833 0.20568933]\n",
            "9 day output [[0.19966686]]\n",
            "10 day input [0.27604416 0.25128606 0.2501494  0.2491073  0.2483951  0.24733153\n",
            " 0.20414887 0.19720833 0.20568933 0.19966686]\n",
            "10 day output [[0.1918714]]\n",
            "11 day input [0.25128606 0.2501494  0.2491073  0.2483951  0.24733153 0.20414887\n",
            " 0.19720833 0.20568933 0.19966686 0.1918714 ]\n",
            "11 day output [[0.18875603]]\n",
            "12 day input [0.2501494  0.2491073  0.2483951  0.24733153 0.20414887 0.19720833\n",
            " 0.20568933 0.19966686 0.1918714  0.18875603]\n",
            "12 day output [[0.16457301]]\n",
            "13 day input [0.2491073  0.2483951  0.24733153 0.20414887 0.19720833 0.20568933\n",
            " 0.19966686 0.1918714  0.18875603 0.16457301]\n",
            "13 day output [[0.1673334]]\n",
            "14 day input [0.2483951  0.24733153 0.20414887 0.19720833 0.20568933 0.19966686\n",
            " 0.1918714  0.18875603 0.16457301 0.16733339]\n",
            "14 day output [[0.17235579]]\n",
            "15 day input [0.24733153 0.20414887 0.19720833 0.20568933 0.19966686 0.1918714\n",
            " 0.18875603 0.16457301 0.16733339 0.17235579]\n",
            "15 day output [[0.16633575]]\n",
            "16 day input [0.20414887 0.19720833 0.20568933 0.19966686 0.1918714  0.18875603\n",
            " 0.16457301 0.16733339 0.17235579 0.16633575]\n",
            "16 day output [[0.15762417]]\n",
            "17 day input [0.19720833 0.20568933 0.19966686 0.1918714  0.18875603 0.16457301\n",
            " 0.16733339 0.17235579 0.16633575 0.15762417]\n",
            "17 day output [[0.15467103]]\n",
            "18 day input [0.20568933 0.19966686 0.1918714  0.18875603 0.16457301 0.16733339\n",
            " 0.17235579 0.16633575 0.15762417 0.15467103]\n",
            "18 day output [[0.14472108]]\n",
            "19 day input [0.19966686 0.1918714  0.18875603 0.16457301 0.16733339 0.17235579\n",
            " 0.16633575 0.15762417 0.15467103 0.14472108]\n",
            "19 day output [[0.15021701]]\n",
            "20 day input [0.1918714  0.18875603 0.16457301 0.16733339 0.17235579 0.16633575\n",
            " 0.15762417 0.15467103 0.14472108 0.15021701]\n",
            "20 day output [[0.14924662]]\n",
            "21 day input [0.18875603 0.16457301 0.16733339 0.17235579 0.16633575 0.15762417\n",
            " 0.15467103 0.14472108 0.15021701 0.14924662]\n",
            "21 day output [[0.14468591]]\n",
            "22 day input [0.16457301 0.16733339 0.17235579 0.16633575 0.15762417 0.15467103\n",
            " 0.14472108 0.15021701 0.14924662 0.14468591]\n",
            "22 day output [[0.13722397]]\n",
            "23 day input [0.16733339 0.17235579 0.16633575 0.15762417 0.15467103 0.14472108\n",
            " 0.15021701 0.14924662 0.14468591 0.13722397]\n",
            "23 day output [[0.1373067]]\n",
            "24 day input [0.17235579 0.16633575 0.15762417 0.15467103 0.14472108 0.15021701\n",
            " 0.14924662 0.14468591 0.13722397 0.13730671]\n",
            "24 day output [[0.1341793]]\n",
            "25 day input [0.16633575 0.15762417 0.15467103 0.14472108 0.15021701 0.14924662\n",
            " 0.14468591 0.13722397 0.13730671 0.13417929]\n",
            "25 day output [[0.13559854]]\n",
            "26 day input [0.15762417 0.15467103 0.14472108 0.15021701 0.14924662 0.14468591\n",
            " 0.13722397 0.13730671 0.13417929 0.13559854]\n",
            "26 day output [[0.13282318]]\n",
            "27 day input [0.15467103 0.14472108 0.15021701 0.14924662 0.14468591 0.13722397\n",
            " 0.13730671 0.13417929 0.13559854 0.13282318]\n",
            "27 day output [[0.12821901]]\n",
            "28 day input [0.14472108 0.15021701 0.14924662 0.14468591 0.13722397 0.13730671\n",
            " 0.13417929 0.13559854 0.13282318 0.12821901]\n",
            "28 day output [[0.12339461]]\n",
            "29 day input [0.15021701 0.14924662 0.14468591 0.13722397 0.13730671 0.13417929\n",
            " 0.13559854 0.13282318 0.12821901 0.12339461]\n",
            "29 day output [[0.12532069]]\n"
          ]
        }
      ]
    },
    {
      "cell_type": "code",
      "source": [
        "#đưa giá trị về đơn vị ban đầu trước khi đc chuẩn hóa\n",
        "y_future = scaler.inverse_transform(lst_output)\n",
        "y_future"
      ],
      "metadata": {
        "colab": {
          "base_uri": "https://localhost:8080/"
        },
        "id": "VGUiv8ISL6vI",
        "outputId": "70d57930-9547-4735-94d7-0ca338e09245"
      },
      "execution_count": null,
      "outputs": [
        {
          "output_type": "execute_result",
          "data": {
            "text/plain": [
              "array([[1389.38410858],\n",
              "       [1272.33327829],\n",
              "       [1266.95939817],\n",
              "       [1262.03258993],\n",
              "       [1258.66546093],\n",
              "       [1253.63713511],\n",
              "       [1049.47907553],\n",
              "       [1016.66571827],\n",
              "       [1056.76199345],\n",
              "       [1028.28909409],\n",
              "       [ 991.43391393],\n",
              "       [ 976.70512863],\n",
              "       [ 862.37315197],\n",
              "       [ 875.42362126],\n",
              "       [ 899.16837969],\n",
              "       [ 870.70696357],\n",
              "       [ 829.5205544 ],\n",
              "       [ 815.55875169],\n",
              "       [ 768.5175748 ],\n",
              "       [ 794.50114467],\n",
              "       [ 789.91333894],\n",
              "       [ 768.35131422],\n",
              "       [ 733.07293251],\n",
              "       [ 733.46406757],\n",
              "       [ 718.67835915],\n",
              "       [ 725.38824166],\n",
              "       [ 712.26697073],\n",
              "       [ 690.49944512],\n",
              "       [ 667.69074785],\n",
              "       [ 676.79682576]])"
            ]
          },
          "metadata": {},
          "execution_count": 65
        }
      ]
    },
    {
      "cell_type": "code",
      "source": [
        "# 14.Vẽ hình\n",
        "import matplotlib.pyplot as plt\n",
        "plt.figure(figsize=(12, 8))\n",
        "\n",
        "train_data_index = pd.RangeIndex(start=0, stop=train_size, step=1)\n",
        "plt.plot(scaler.inverse_transform(train_data))\n",
        "\n",
        "test_data_index = pd.RangeIndex(start=train_size, stop=train_size+test_size, step=1)\n",
        "plt.plot(test_data_index,scaler.inverse_transform(test_data))\n",
        "test_data_index = pd.RangeIndex(start=train_size+11, stop=train_size+test_size, step=1)\n",
        "plt.plot(test_data_index,(y_pred[:-1]))\n",
        "\n",
        "val_data_index = pd.RangeIndex(start=train_size+test_size, stop=train_size+test_size+val_size, step=1)\n",
        "plt.plot(val_data_index,scaler.inverse_transform(val_data))\n",
        "val_data_index = pd.RangeIndex(start=train_size+test_size+11, stop=train_size+test_size+val_size, step=1)\n",
        "plt.plot(val_data_index,y_pred_val[:-1])\n",
        "\n",
        "prediect_data_index = pd.RangeIndex(start=len(df1)-1, stop=len(df1)+29, step=1)\n",
        "plt.plot(prediect_data_index,scaler.inverse_transform(lst_output))\n",
        "plt.legend(['Train','Test','Predict','Validate','ValidatePred','Predict30days'])\n",
        "plt.show()"
      ],
      "metadata": {
        "colab": {
          "base_uri": "https://localhost:8080/",
          "height": 676
        },
        "id": "LuTV0QIEL-t7",
        "outputId": "213a068f-0b57-41dd-9f0f-821414081f46"
      },
      "execution_count": null,
      "outputs": [
        {
          "output_type": "display_data",
          "data": {
            "text/plain": [
              "<Figure size 1200x800 with 1 Axes>"
            ],
            "image/png": "[encoded data removed]"
          },
          "metadata": {}
        }
      ]
    }
  ]
}